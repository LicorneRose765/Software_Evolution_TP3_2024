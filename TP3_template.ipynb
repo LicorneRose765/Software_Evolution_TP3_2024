{
 "cells": [
  {
   "cell_type": "code",
   "execution_count": 1,
   "id": "ef9cc5cb-3ce4-4e59-abd5-75785e4eb067",
   "metadata": {},
   "outputs": [],
   "source": [
    "import pandas as pd\n",
    "from pandas import option_context\n",
    "import matplotlib.pyplot as plt\n",
    "import matplotlib.patches as mpatches\n",
    "import numpy as np\n",
    "import requests\n",
    "import seaborn as sns\n",
    "import datetime\n",
    "import cliffsDelta as cd\n",
    "import itertools\n",
    "\n",
    "from tqdm import tqdm\n",
    "from statsmodels.stats.inter_rater import fleiss_kappa,aggregate_raters\n",
    "from scipy.stats import mannwhitneyu,shapiro,ttest_ind"
   ]
  },
  {
   "cell_type": "code",
   "execution_count": 2,
   "id": "67f34e37-48e6-4033-b30f-5ba256427f26",
   "metadata": {},
   "outputs": [],
   "source": [
    "QUERY_ROOT = \"https://api.github.com\"\n",
    "TOKEN = \"\"  # write your GitHub API key here\n",
    "HEADERS = {\"Authorization\": \"token \" + TOKEN}"
   ]
  },
  {
   "cell_type": "markdown",
   "id": "8095c72b-abe2-46b8-9034-1d9c7d98d3ad",
   "metadata": {},
   "source": [
    "## Section 3"
   ]
  },
  {
   "cell_type": "markdown",
   "id": "01c6e0c3-b012-4f00-a033-ddf3b74747c7",
   "metadata": {},
   "source": [
    "### Question 1"
   ]
  },
  {
   "cell_type": "markdown",
   "id": "2a3cc77d-eedd-4b5a-a560-b17a5a2b4cc4",
   "metadata": {},
   "source": [
    "#### Write an automated Python script to identify the GitHub Apps in the list of accounts, by calling the GitHub Users API and extracting the required information to make this decision. \n",
    "\n",
    "#### More information: You can search for the \"type\" key in the obtianed JSON result, If it is \"Bot\", then it is an app, if it is \"User\", then it is an account."
   ]
  },
  {
   "cell_type": "code",
   "execution_count": 3,
   "id": "2d0275f0-5c13-42ea-9025-5ea307d6398d",
   "metadata": {},
   "outputs": [
    {
     "name": "stdout",
     "output_type": "stream",
     "text": [
      "            contributor bothunter\n",
      "0       TanvirBhuiyan19     Human\n",
      "1           AkihiroSuda     Human\n",
      "2                xwjdsh     Human\n",
      "3                 spaam     Human\n",
      "4              messense     Human\n",
      "5             woodruffw     Human\n",
      "6            dev-errant     Human\n",
      "7                ryenus     Human\n",
      "8           coffeegoddd     Human\n",
      "9              scpeters     Human\n",
      "10               fsouza     Human\n",
      "11            p-linnane     Human\n",
      "12           bashofmann     Human\n",
      "13             aliscott     Human\n",
      "14           chenrui333       Bot\n",
      "15             henryiii     Human\n",
      "16    blockstack-devops       Bot\n",
      "17               mrexox     Human\n",
      "18           grafanabot       Bot\n",
      "19           chiefmikey     Human\n",
      "20           ArduinoBot       Bot\n",
      "21              ik11235     Human\n",
      "22              zmwangx     Human\n",
      "23             sayomaki     Human\n",
      "24               issyl0     Human\n",
      "25             makigumo     Human\n",
      "26                efiop     Human\n",
      "27      semgrep-ci[bot]       Bot\n",
      "28         danielnachun     Human\n",
      "29                 mxcl     Human\n",
      "30          phpstan-bot       Bot\n",
      "31        sami-alajrami     Human\n",
      "32             uyjulian     Human\n",
      "33          MikeMcQuaid     Human\n",
      "34       pthariensflame     Human\n",
      "35          mise-en-dev     Human\n",
      "36             miles170     Human\n",
      "37             huacnlee     Human\n",
      "38      svc-devtoolsbot       Bot\n",
      "39  github-actions[bot]       Bot\n"
     ]
    }
   ],
   "source": [
    "# 1. Read the given .csv file into a pandas DataFrame (df).\n",
    "# 2. Make sure there are 2 columns, one column name is \"contributor\" that has the name of the contributor, \n",
    "#    and another column name is \"bothunter\" that you will use later on in this assignment.\n",
    "# 3. Display the DataFrame.\n",
    "\n",
    "# YOUR CODE BELOW\n",
    "df = pd.read_csv('homebrew_homebrew-core_3/homebrew_homebrew-core_3.csv')\n",
    "# Check if the columns are correct\n",
    "if 'contributor' not in df.columns or 'bothunter' not in df.columns:\n",
    "    raise ValueError(\"The columns are not correct\")\n",
    "\n",
    "print(df)\n"
   ]
  },
  {
   "cell_type": "code",
   "execution_count": 4,
   "id": "f9312364-57d3-4f26-a216-82a22eea8349",
   "metadata": {},
   "outputs": [
    {
     "name": "stdout",
     "output_type": "stream",
     "text": [
      "['TanvirBhuiyan19', 'AkihiroSuda', 'xwjdsh', 'spaam', 'messense', 'woodruffw', 'dev-errant', 'ryenus', 'coffeegoddd', 'scpeters', 'fsouza', 'p-linnane', 'bashofmann', 'aliscott', 'chenrui333', 'henryiii', 'blockstack-devops', 'mrexox', 'grafanabot', 'chiefmikey', 'ArduinoBot', 'ik11235', 'zmwangx', 'sayomaki', 'issyl0', 'makigumo', 'efiop', 'semgrep-ci[bot]', 'danielnachun', 'mxcl', 'phpstan-bot', 'sami-alajrami', 'uyjulian', 'MikeMcQuaid', 'pthariensflame', 'mise-en-dev', 'miles170', 'huacnlee', 'svc-devtoolsbot', 'github-actions[bot]']\n"
     ]
    }
   ],
   "source": [
    "# 1. Store the names of the contributors in a list using the code snippet: 'df.contributor.to_list()'\n",
    "# 2. print the list\n",
    "\n",
    "# YOUR CODE BELOW\n",
    "\n",
    "contributors = df.contributor.to_list()\n",
    "print(contributors)"
   ]
  },
  {
   "cell_type": "code",
   "execution_count": 5,
   "id": "2cd6ab44-f113-466a-863c-862674798f4c",
   "metadata": {},
   "outputs": [
    {
     "name": "stdout",
     "output_type": "stream",
     "text": [
      "            contributor    app\n",
      "0       TanvirBhuiyan19  False\n",
      "1           AkihiroSuda  False\n",
      "2                xwjdsh  False\n",
      "3                 spaam  False\n",
      "4              messense  False\n",
      "5             woodruffw  False\n",
      "6            dev-errant  False\n",
      "7                ryenus  False\n",
      "8           coffeegoddd  False\n",
      "9              scpeters  False\n",
      "10               fsouza  False\n",
      "11            p-linnane  False\n",
      "12           bashofmann  False\n",
      "13             aliscott  False\n",
      "14           chenrui333  False\n",
      "15             henryiii  False\n",
      "16    blockstack-devops  False\n",
      "17               mrexox  False\n",
      "18           grafanabot  False\n",
      "19           chiefmikey  False\n",
      "20           ArduinoBot  False\n",
      "21              ik11235  False\n",
      "22              zmwangx  False\n",
      "23             sayomaki  False\n",
      "24               issyl0  False\n",
      "25             makigumo  False\n",
      "26                efiop  False\n",
      "27      semgrep-ci[bot]   True\n",
      "28         danielnachun  False\n",
      "29                 mxcl  False\n",
      "30          phpstan-bot  False\n",
      "31        sami-alajrami  False\n",
      "32             uyjulian  False\n",
      "33          MikeMcQuaid  False\n",
      "34       pthariensflame  False\n",
      "35          mise-en-dev  False\n",
      "36             miles170  False\n",
      "37             huacnlee  False\n",
      "38      svc-devtoolsbot  False\n",
      "39  github-actions[bot]   True\n"
     ]
    }
   ],
   "source": [
    "# 1. Using a for loop, iterate over each contributor in the list and query the GitHub Users API.\n",
    "#    You can use \"query = f'{QUERY_ROOT}/users/{contributor}'\", where QUERY_ROOT is defined at the beginning of this notebook \n",
    "#    above and 'contributor' is each individul contributor from the list\n",
    "# 2. Get the response using 'response = requests.get(query, headers=HEADERS)'.\n",
    "# 3. convert the response to JSON using 'json_response = response.json()'.\n",
    "# 4. Iterate over this JSON response and get the value of the 'type' key. If it is \"Bot\" then the contributor is an App, \n",
    "#    if \"User\" then the contributor is an account. You should boolean values to indicate if the contributor is an App (True) or User/Organisation (False)\n",
    "# 5. Save these results in list of dictionary of the form [{'contributor': <contributor name>, 'app': <boolean value>}, {...}, {...}, {...}].\n",
    "#    Lets call this list as \"app_list_dict\"\n",
    "# 6. Finally convert this list of dictionary to DataFrame by writing 'pd.DataFrame.from_dict(app_dict)'\n",
    "# 7. Display the DataFrame. This should have two columns - contributor and app\n",
    "\n",
    "# YOUR CODE BELOW\n",
    "app_list = []\n",
    "for user in contributors:\n",
    "    query = f'{QUERY_ROOT}/users/{user}'\n",
    "    response = requests.get(query, headers=HEADERS)\n",
    "    json_response = response.json()\n",
    "    if json_response['type'] == 'Bot':\n",
    "        app_list.append({'contributor': user, 'app': True})\n",
    "    else:\n",
    "        app_list.append({'contributor': user, 'app': False})\n",
    "\n",
    "app_df = pd.DataFrame.from_dict(app_list)\n",
    "print(app_df)"
   ]
  },
  {
   "cell_type": "markdown",
   "id": "bf7a784f-8b41-488b-8034-7f66ed9b6d97",
   "metadata": {},
   "source": [
    "### Question 2\n",
    "\n",
    "#### Add an app column in the CSV file to store this information. You can write True if it is an app and False if it is not.\n"
   ]
  },
  {
   "cell_type": "code",
   "execution_count": 6,
   "id": "242398c5-d3ae-472f-99e8-ac86be7897c2",
   "metadata": {},
   "outputs": [
    {
     "name": "stdout",
     "output_type": "stream",
     "text": [
      "            contributor bothunter    app\n",
      "0       TanvirBhuiyan19     Human  False\n",
      "1           AkihiroSuda     Human  False\n",
      "2                xwjdsh     Human  False\n",
      "3                 spaam     Human  False\n",
      "4              messense     Human  False\n",
      "5             woodruffw     Human  False\n",
      "6            dev-errant     Human  False\n",
      "7                ryenus     Human  False\n",
      "8           coffeegoddd     Human  False\n",
      "9              scpeters     Human  False\n",
      "10               fsouza     Human  False\n",
      "11            p-linnane     Human  False\n",
      "12           bashofmann     Human  False\n",
      "13             aliscott     Human  False\n",
      "14           chenrui333       Bot  False\n",
      "15             henryiii     Human  False\n",
      "16    blockstack-devops       Bot  False\n",
      "17               mrexox     Human  False\n",
      "18           grafanabot       Bot  False\n",
      "19           chiefmikey     Human  False\n",
      "20           ArduinoBot       Bot  False\n",
      "21              ik11235     Human  False\n",
      "22              zmwangx     Human  False\n",
      "23             sayomaki     Human  False\n",
      "24               issyl0     Human  False\n",
      "25             makigumo     Human  False\n",
      "26                efiop     Human  False\n",
      "27      semgrep-ci[bot]       Bot   True\n",
      "28         danielnachun     Human  False\n",
      "29                 mxcl     Human  False\n",
      "30          phpstan-bot       Bot  False\n",
      "31        sami-alajrami     Human  False\n",
      "32             uyjulian     Human  False\n",
      "33          MikeMcQuaid     Human  False\n",
      "34       pthariensflame     Human  False\n",
      "35          mise-en-dev     Human  False\n",
      "36             miles170     Human  False\n",
      "37             huacnlee     Human  False\n",
      "38      svc-devtoolsbot       Bot  False\n",
      "39  github-actions[bot]       Bot   True\n"
     ]
    }
   ],
   "source": [
    "# Merge the app DataFrame to df by writing 'pd.merge(df, <app df>, on='contributor'). This is similar to SQL join on primary key 'contributor'.\n",
    "# The resultant df should have 3 columns - contributor, bothunter and app.\n",
    "\n",
    "# YOUR CODE BELOW\n",
    "df = pd.merge(df, app_df, on='contributor')\n",
    "print(df)"
   ]
  },
  {
   "cell_type": "markdown",
   "id": "db9ba7d8-7a6f-4485-8e7b-bc5a00646021",
   "metadata": {},
   "source": [
    "### Question 3\n",
    "\n",
    "#### Report on the total number of GitHub Apps, and User accounts present in the list of accounts of your dataset."
   ]
  },
  {
   "cell_type": "code",
   "execution_count": 7,
   "id": "3092d616-2426-417a-95be-7f54f1124eff",
   "metadata": {},
   "outputs": [
    {
     "name": "stdout",
     "output_type": "stream",
     "text": [
      "False count: 38, True count: 2\n"
     ]
    },
    {
     "name": "stderr",
     "output_type": "stream",
     "text": [
      "/tmp/ipykernel_182767/3408985260.py:2: FutureWarning: Series.__getitem__ treating keys as positions is deprecated. In a future version, integer keys will always be treated as labels (consistent with DataFrame behavior). To access a value by position, use `ser.iloc[pos]`\n",
      "  false_count = app_df['app'].value_counts()[0]\n",
      "/tmp/ipykernel_182767/3408985260.py:3: FutureWarning: Series.__getitem__ treating keys as positions is deprecated. In a future version, integer keys will always be treated as labels (consistent with DataFrame behavior). To access a value by position, use `ser.iloc[pos]`\n",
      "  true_count = app_df['app'].value_counts()[1]\n"
     ]
    },
    {
     "data": {
      "text/plain": [
       "app\n",
       "False    38\n",
       "True      2\n",
       "Name: count, dtype: int64"
      ]
     },
     "execution_count": 7,
     "metadata": {},
     "output_type": "execute_result"
    }
   ],
   "source": [
    "# Return the number of false and true values\n",
    "false_count = app_df['app'].value_counts()[0]\n",
    "true_count = app_df['app'].value_counts()[1]\n",
    "print(f\"False count: {false_count}, True count: {true_count}\")\n",
    "app_df['app'].value_counts()"
   ]
  },
  {
   "cell_type": "markdown",
   "id": "406e178f-2b41-4758-b075-e2eea47f3991",
   "metadata": {},
   "source": [
    "## Section 4"
   ]
  },
  {
   "cell_type": "markdown",
   "id": "a05bb032-1b55-402e-8074-42f2210f3a16",
   "metadata": {},
   "source": [
    "### Question 1"
   ]
  },
  {
   "cell_type": "markdown",
   "id": "48285de2-8b3a-481a-bf93-b99295ba8a4a",
   "metadata": {},
   "source": [
    "#### Write an automated script to report on the prediction of the GitHub accounts in your dataset, using BoDeGHa and RABBIT bot identification tools. For each tool, your script should add an extra column to the CSV ﬁle of your dataset, reporting the prediction (bot, human, unknown) of the considered tool on the considered account."
   ]
  },
  {
   "cell_type": "markdown",
   "id": "35d19172-9890-4706-93a1-663c8b2d28bd",
   "metadata": {},
   "source": [
    "#### More information:\n",
    "You can write an automated script to execute BoDeGHa and RABBIT, and save the results in a DataFrame. For BoDeGHa, you can ask the tool to give the output in CSV format, save it as a csv file and read it in a DataFrame. For RABBIT, you can use its internal argument to store the results in a .csv file and read it in a DataFrame. Remember to read their Documentation (Readme.md) for their input arguments and example outputs before using these tools.  \n",
    "Similar to what you did in Section 2 - Question 1 and 2, add an additional column named 'bodegha' to store the predictions \n",
    "given by BoDeGHa and add another column called 'rabbit' to store the preditions given by RABBIT. "
   ]
  },
  {
   "cell_type": "code",
   "execution_count": 8,
   "id": "ee4006c3-796d-4a7a-9b97-ec5007cc0680",
   "metadata": {},
   "outputs": [],
   "source": [
    "# Read the .csv file that has the predicitons given by BoDeGHa.\n",
    "\n",
    "# YOUR CODE BELOW\n",
    "\n",
    "# bodegha -> From file (error with python 3.11)\n",
    "bdegha_rep = pd.read_csv('homebrew_homebrew-core_3/bodegha_predictions.csv')\n",
    "# For users not in this csv file but in the previous one, add them with a value of 'Unkwown'\n",
    "list_unknown = []\n",
    "for user in df['contributor']:\n",
    "    if user not in bdegha_rep['account'].to_list():\n",
    "        list_unknown.append({'account': user, 'prediction': 'Unknown'})\n",
    "\n",
    "df2 = pd.DataFrame.from_dict(list_unknown)\n",
    "bdegha_rep = pd.concat([bdegha_rep, df2])\n",
    "bdegha_rep = bdegha_rep.rename(columns={'account': 'contributor', 'prediction' : 'bodegha'})\n",
    "# save the file\n",
    "bdegha_rep.to_csv('homebrew_homebrew-core_3/bodegha_predictions_full.csv', index=False)\n"
   ]
  },
  {
   "cell_type": "code",
   "execution_count": 9,
   "id": "fd79d43a-902d-49f9-8ab4-2ca78e5f4393",
   "metadata": {},
   "outputs": [
    {
     "data": {
      "text/html": [
       "<div>\n",
       "<style scoped>\n",
       "    .dataframe tbody tr th:only-of-type {\n",
       "        vertical-align: middle;\n",
       "    }\n",
       "\n",
       "    .dataframe tbody tr th {\n",
       "        vertical-align: top;\n",
       "    }\n",
       "\n",
       "    .dataframe thead th {\n",
       "        text-align: right;\n",
       "    }\n",
       "</style>\n",
       "<table border=\"1\" class=\"dataframe\">\n",
       "  <thead>\n",
       "    <tr style=\"text-align: right;\">\n",
       "      <th></th>\n",
       "      <th>contributor</th>\n",
       "      <th>bothunter</th>\n",
       "      <th>app</th>\n",
       "      <th>bodegha</th>\n",
       "    </tr>\n",
       "  </thead>\n",
       "  <tbody>\n",
       "    <tr>\n",
       "      <th>0</th>\n",
       "      <td>TanvirBhuiyan19</td>\n",
       "      <td>Human</td>\n",
       "      <td>False</td>\n",
       "      <td>Unknown</td>\n",
       "    </tr>\n",
       "    <tr>\n",
       "      <th>1</th>\n",
       "      <td>AkihiroSuda</td>\n",
       "      <td>Human</td>\n",
       "      <td>False</td>\n",
       "      <td>Bot</td>\n",
       "    </tr>\n",
       "    <tr>\n",
       "      <th>2</th>\n",
       "      <td>xwjdsh</td>\n",
       "      <td>Human</td>\n",
       "      <td>False</td>\n",
       "      <td>Unknown</td>\n",
       "    </tr>\n",
       "    <tr>\n",
       "      <th>3</th>\n",
       "      <td>spaam</td>\n",
       "      <td>Human</td>\n",
       "      <td>False</td>\n",
       "      <td>Unknown</td>\n",
       "    </tr>\n",
       "    <tr>\n",
       "      <th>4</th>\n",
       "      <td>messense</td>\n",
       "      <td>Human</td>\n",
       "      <td>False</td>\n",
       "      <td>Unknown</td>\n",
       "    </tr>\n",
       "    <tr>\n",
       "      <th>5</th>\n",
       "      <td>woodruffw</td>\n",
       "      <td>Human</td>\n",
       "      <td>False</td>\n",
       "      <td>Human</td>\n",
       "    </tr>\n",
       "    <tr>\n",
       "      <th>6</th>\n",
       "      <td>dev-errant</td>\n",
       "      <td>Human</td>\n",
       "      <td>False</td>\n",
       "      <td>Unknown</td>\n",
       "    </tr>\n",
       "    <tr>\n",
       "      <th>7</th>\n",
       "      <td>ryenus</td>\n",
       "      <td>Human</td>\n",
       "      <td>False</td>\n",
       "      <td>Unknown</td>\n",
       "    </tr>\n",
       "    <tr>\n",
       "      <th>8</th>\n",
       "      <td>coffeegoddd</td>\n",
       "      <td>Human</td>\n",
       "      <td>False</td>\n",
       "      <td>Unknown</td>\n",
       "    </tr>\n",
       "    <tr>\n",
       "      <th>9</th>\n",
       "      <td>scpeters</td>\n",
       "      <td>Human</td>\n",
       "      <td>False</td>\n",
       "      <td>Human</td>\n",
       "    </tr>\n",
       "  </tbody>\n",
       "</table>\n",
       "</div>"
      ],
      "text/plain": [
       "       contributor bothunter    app  bodegha\n",
       "0  TanvirBhuiyan19     Human  False  Unknown\n",
       "1      AkihiroSuda     Human  False      Bot\n",
       "2           xwjdsh     Human  False  Unknown\n",
       "3            spaam     Human  False  Unknown\n",
       "4         messense     Human  False  Unknown\n",
       "5        woodruffw     Human  False    Human\n",
       "6       dev-errant     Human  False  Unknown\n",
       "7           ryenus     Human  False  Unknown\n",
       "8      coffeegoddd     Human  False  Unknown\n",
       "9         scpeters     Human  False    Human"
      ]
     },
     "execution_count": 9,
     "metadata": {},
     "output_type": "execute_result"
    }
   ],
   "source": [
    "# merge it to df - Now your df should have the following four columns - contributor, bothunter, app, bodegha\n",
    "# YOUR CODE BELOW\n",
    "df = pd.merge(df, bdegha_rep, on='contributor')\n",
    "df.head(n = 10)\n"
   ]
  },
  {
   "cell_type": "code",
   "execution_count": 10,
   "id": "bf49eb15-f5b7-4543-a1e7-056c1f6205cf",
   "metadata": {},
   "outputs": [],
   "source": [
    "# Read the predictions given by RABBIT from the corresponding .csv file\n",
    "\n",
    "# YOUR CODE BELOW\n",
    "# Clear the rabbit prediction file\n",
    "rabbit_rep = pd.read_csv(\"homebrew_homebrew-core_3/rabbit_predictions.csv\")\n",
    "# remove index and confidence columns\n",
    "rabbit_rep = rabbit_rep.drop([\"index\", \"confidence\"], axis=1)\n",
    "\n",
    "# add unknown users\n",
    "list_unknown = []\n",
    "for user in df[\"contributor\"]:\n",
    "    if user not in rabbit_rep[\"account\"].to_list():\n",
    "        list_unknown.append({\"account\": user, \"prediction\": \"Unknown\"})\n",
    "\n",
    "df2 = pd.DataFrame.from_dict(list_unknown)\n",
    "rabbit_rep = pd.concat([rabbit_rep, df2])\n",
    "rabbit_rep = rabbit_rep.rename(\n",
    "    columns={\"account\": \"contributor\", \"prediction\": \"rabbit\"}\n",
    ")\n",
    "\n",
    "# save the file\n",
    "rabbit_rep.to_csv(\"homebrew_homebrew-core_3/rabbit_predictions_full.csv\", index=False)"
   ]
  },
  {
   "cell_type": "code",
   "execution_count": 11,
   "id": "43877324-9c86-42f3-a109-bda2565dab87",
   "metadata": {},
   "outputs": [
    {
     "data": {
      "text/html": [
       "<div>\n",
       "<style scoped>\n",
       "    .dataframe tbody tr th:only-of-type {\n",
       "        vertical-align: middle;\n",
       "    }\n",
       "\n",
       "    .dataframe tbody tr th {\n",
       "        vertical-align: top;\n",
       "    }\n",
       "\n",
       "    .dataframe thead th {\n",
       "        text-align: right;\n",
       "    }\n",
       "</style>\n",
       "<table border=\"1\" class=\"dataframe\">\n",
       "  <thead>\n",
       "    <tr style=\"text-align: right;\">\n",
       "      <th></th>\n",
       "      <th>contributor</th>\n",
       "      <th>bothunter</th>\n",
       "      <th>app</th>\n",
       "      <th>bodegha</th>\n",
       "      <th>rabbit</th>\n",
       "    </tr>\n",
       "  </thead>\n",
       "  <tbody>\n",
       "    <tr>\n",
       "      <th>0</th>\n",
       "      <td>TanvirBhuiyan19</td>\n",
       "      <td>Human</td>\n",
       "      <td>False</td>\n",
       "      <td>Unknown</td>\n",
       "      <td>human</td>\n",
       "    </tr>\n",
       "    <tr>\n",
       "      <th>1</th>\n",
       "      <td>AkihiroSuda</td>\n",
       "      <td>Human</td>\n",
       "      <td>False</td>\n",
       "      <td>Bot</td>\n",
       "      <td>human</td>\n",
       "    </tr>\n",
       "    <tr>\n",
       "      <th>2</th>\n",
       "      <td>xwjdsh</td>\n",
       "      <td>Human</td>\n",
       "      <td>False</td>\n",
       "      <td>Unknown</td>\n",
       "      <td>human</td>\n",
       "    </tr>\n",
       "    <tr>\n",
       "      <th>3</th>\n",
       "      <td>spaam</td>\n",
       "      <td>Human</td>\n",
       "      <td>False</td>\n",
       "      <td>Unknown</td>\n",
       "      <td>bot</td>\n",
       "    </tr>\n",
       "    <tr>\n",
       "      <th>4</th>\n",
       "      <td>messense</td>\n",
       "      <td>Human</td>\n",
       "      <td>False</td>\n",
       "      <td>Unknown</td>\n",
       "      <td>human</td>\n",
       "    </tr>\n",
       "    <tr>\n",
       "      <th>5</th>\n",
       "      <td>woodruffw</td>\n",
       "      <td>Human</td>\n",
       "      <td>False</td>\n",
       "      <td>Human</td>\n",
       "      <td>human</td>\n",
       "    </tr>\n",
       "    <tr>\n",
       "      <th>6</th>\n",
       "      <td>dev-errant</td>\n",
       "      <td>Human</td>\n",
       "      <td>False</td>\n",
       "      <td>Unknown</td>\n",
       "      <td>bot</td>\n",
       "    </tr>\n",
       "    <tr>\n",
       "      <th>7</th>\n",
       "      <td>ryenus</td>\n",
       "      <td>Human</td>\n",
       "      <td>False</td>\n",
       "      <td>Unknown</td>\n",
       "      <td>human</td>\n",
       "    </tr>\n",
       "    <tr>\n",
       "      <th>8</th>\n",
       "      <td>coffeegoddd</td>\n",
       "      <td>Human</td>\n",
       "      <td>False</td>\n",
       "      <td>Unknown</td>\n",
       "      <td>bot</td>\n",
       "    </tr>\n",
       "    <tr>\n",
       "      <th>9</th>\n",
       "      <td>scpeters</td>\n",
       "      <td>Human</td>\n",
       "      <td>False</td>\n",
       "      <td>Human</td>\n",
       "      <td>human</td>\n",
       "    </tr>\n",
       "  </tbody>\n",
       "</table>\n",
       "</div>"
      ],
      "text/plain": [
       "       contributor bothunter    app  bodegha rabbit\n",
       "0  TanvirBhuiyan19     Human  False  Unknown  human\n",
       "1      AkihiroSuda     Human  False      Bot  human\n",
       "2           xwjdsh     Human  False  Unknown  human\n",
       "3            spaam     Human  False  Unknown    bot\n",
       "4         messense     Human  False  Unknown  human\n",
       "5        woodruffw     Human  False    Human  human\n",
       "6       dev-errant     Human  False  Unknown    bot\n",
       "7           ryenus     Human  False  Unknown  human\n",
       "8      coffeegoddd     Human  False  Unknown    bot\n",
       "9         scpeters     Human  False    Human  human"
      ]
     },
     "execution_count": 11,
     "metadata": {},
     "output_type": "execute_result"
    }
   ],
   "source": [
    "# merge it to df - Now your df should have the following five columns - contributor, bothunter, app, bodegha, rabbit\n",
    "\n",
    "# YOUR CODE BELOW\n",
    "df = pd.merge(df, rabbit_rep, on=\"contributor\")\n",
    "df.head(n=10)\n"
   ]
  },
  {
   "cell_type": "code",
   "execution_count": 12,
   "id": "3d630b7d-494b-419d-9778-9c2eeb5faecc",
   "metadata": {},
   "outputs": [
    {
     "data": {
      "text/html": [
       "<div>\n",
       "<style scoped>\n",
       "    .dataframe tbody tr th:only-of-type {\n",
       "        vertical-align: middle;\n",
       "    }\n",
       "\n",
       "    .dataframe tbody tr th {\n",
       "        vertical-align: top;\n",
       "    }\n",
       "\n",
       "    .dataframe thead th {\n",
       "        text-align: right;\n",
       "    }\n",
       "</style>\n",
       "<table border=\"1\" class=\"dataframe\">\n",
       "  <thead>\n",
       "    <tr style=\"text-align: right;\">\n",
       "      <th></th>\n",
       "      <th>contributor</th>\n",
       "      <th>bothunter</th>\n",
       "      <th>app</th>\n",
       "      <th>bodegha</th>\n",
       "      <th>rabbit</th>\n",
       "    </tr>\n",
       "  </thead>\n",
       "  <tbody>\n",
       "    <tr>\n",
       "      <th>0</th>\n",
       "      <td>TanvirBhuiyan19</td>\n",
       "      <td>Human</td>\n",
       "      <td>False</td>\n",
       "      <td>Unknown</td>\n",
       "      <td>Human</td>\n",
       "    </tr>\n",
       "    <tr>\n",
       "      <th>1</th>\n",
       "      <td>AkihiroSuda</td>\n",
       "      <td>Human</td>\n",
       "      <td>False</td>\n",
       "      <td>Bot</td>\n",
       "      <td>Human</td>\n",
       "    </tr>\n",
       "    <tr>\n",
       "      <th>2</th>\n",
       "      <td>xwjdsh</td>\n",
       "      <td>Human</td>\n",
       "      <td>False</td>\n",
       "      <td>Unknown</td>\n",
       "      <td>Human</td>\n",
       "    </tr>\n",
       "    <tr>\n",
       "      <th>3</th>\n",
       "      <td>spaam</td>\n",
       "      <td>Human</td>\n",
       "      <td>False</td>\n",
       "      <td>Unknown</td>\n",
       "      <td>Bot</td>\n",
       "    </tr>\n",
       "    <tr>\n",
       "      <th>4</th>\n",
       "      <td>messense</td>\n",
       "      <td>Human</td>\n",
       "      <td>False</td>\n",
       "      <td>Unknown</td>\n",
       "      <td>Human</td>\n",
       "    </tr>\n",
       "    <tr>\n",
       "      <th>5</th>\n",
       "      <td>woodruffw</td>\n",
       "      <td>Human</td>\n",
       "      <td>False</td>\n",
       "      <td>Human</td>\n",
       "      <td>Human</td>\n",
       "    </tr>\n",
       "    <tr>\n",
       "      <th>6</th>\n",
       "      <td>dev-errant</td>\n",
       "      <td>Human</td>\n",
       "      <td>False</td>\n",
       "      <td>Unknown</td>\n",
       "      <td>Bot</td>\n",
       "    </tr>\n",
       "    <tr>\n",
       "      <th>7</th>\n",
       "      <td>ryenus</td>\n",
       "      <td>Human</td>\n",
       "      <td>False</td>\n",
       "      <td>Unknown</td>\n",
       "      <td>Human</td>\n",
       "    </tr>\n",
       "    <tr>\n",
       "      <th>8</th>\n",
       "      <td>coffeegoddd</td>\n",
       "      <td>Human</td>\n",
       "      <td>False</td>\n",
       "      <td>Unknown</td>\n",
       "      <td>Bot</td>\n",
       "    </tr>\n",
       "    <tr>\n",
       "      <th>9</th>\n",
       "      <td>scpeters</td>\n",
       "      <td>Human</td>\n",
       "      <td>False</td>\n",
       "      <td>Human</td>\n",
       "      <td>Human</td>\n",
       "    </tr>\n",
       "  </tbody>\n",
       "</table>\n",
       "</div>"
      ],
      "text/plain": [
       "       contributor bothunter    app  bodegha rabbit\n",
       "0  TanvirBhuiyan19     Human  False  Unknown  Human\n",
       "1      AkihiroSuda     Human  False      Bot  Human\n",
       "2           xwjdsh     Human  False  Unknown  Human\n",
       "3            spaam     Human  False  Unknown    Bot\n",
       "4         messense     Human  False  Unknown  Human\n",
       "5        woodruffw     Human  False    Human  Human\n",
       "6       dev-errant     Human  False  Unknown    Bot\n",
       "7           ryenus     Human  False  Unknown  Human\n",
       "8      coffeegoddd     Human  False  Unknown    Bot\n",
       "9         scpeters     Human  False    Human  Human"
      ]
     },
     "execution_count": 12,
     "metadata": {},
     "output_type": "execute_result"
    }
   ],
   "source": [
    "# Replace the prediction result given by rabbit from 'bot' to 'Bot', 'app' to 'Bot', 'human' to 'Human', 'unknown' to 'Unknown' to maintain consistency\n",
    "\n",
    "# YOUR CODE BELOW\n",
    "df['rabbit'] = df['rabbit'].replace({'bot': 'Bot', 'app': 'Bot', 'human': 'Human', 'unknown': 'Unknown'})\n",
    "df.head(n=10)\n",
    "\n"
   ]
  },
  {
   "cell_type": "markdown",
   "id": "a6f38f75-30ec-463f-bc98-89de44a14db4",
   "metadata": {},
   "source": [
    "### Question 2\n",
    "\n",
    "#### Add an extra column to the CSV ﬁle called 'manual' that has the label determined by you. For each account, of your own opinion on its nature (bot, human or unknown only in case of doubt) on the basis of a manual veriﬁcation of the contributor’s activities in the repository through the GitHub UI and through the GitHub Events API https://api.github.com/users/username/events, and taking into account the prediction made by the bot identification tools."
   ]
  },
  {
   "cell_type": "markdown",
   "id": "e0da30a5-19c6-4ebe-b4cf-9641a432a3ec",
   "metadata": {},
   "source": [
    "#### More information:\n",
    "For each contributor, look at their activities in GitHub UI, look at their latest events using GitHub Events API - https://api.github.com/users/<contributor\\>/events, to make a decision on their type. \n",
    "\n",
    "In addition, you should also write a very small reason why do you think they are bot or human (e.g., same activity at regular interval so Bot, files committed and code modified looks like Human, comments look like Human, comment look like Bot, test report looks automated so Bot, and so on....). This might be useful to answer the next question as well."
   ]
  },
  {
   "cell_type": "code",
   "execution_count": 13,
   "id": "884a7612-7ff7-40a4-805f-113c6f70786b",
   "metadata": {},
   "outputs": [],
   "source": [
    "# Write your manual decision here\n",
    "# example :\n",
    "# manual_list_dict = [{'contributor': 'tommens', 'manual': 'human'}, {....}, {....}, {....}]\n",
    "# pd.DataFrame.from_dict(manual_list_dict)\n",
    "\n",
    "# YOUR CODE BELOW\n",
    "manual_list_dict = [\n",
    "    {\"contributor\": \"TanvirBhuiyan19\", \"manual\": \"Human\"}, \n",
    "    {\"cohtributor\": \"AkihiroSuda\", \"manual\": \"Unkown\"}, # Comments looks like it is a Human but his commits are mainly versions updates\n",
    "    {\"contributor\": \"xwjdsh\", \"manual\": \"Human\"},  # Code modified looks like Human\n",
    "    # cancel and go to next step    \n",
    "]"
   ]
  },
  {
   "cell_type": "code",
   "execution_count": 14,
   "id": "93c4ce14-c393-45ba-aba0-bf1ae23d1cca",
   "metadata": {},
   "outputs": [],
   "source": [
    "# merge it with df of predictions. Now your df should have the following six columns\n",
    "# contributor, bothunter, app, bodegha, rabbit, manual\n",
    "\n",
    "# YOUR CODE BELOW\n"
   ]
  },
  {
   "cell_type": "markdown",
   "id": "0ec42ed1-0758-4ce4-82cc-542e490626dc",
   "metadata": {},
   "source": [
    "### Question 3\n",
    "\n",
    "#### Study and report the purpose of these identified bots and humans in the repository assigned to you. \n",
    "\n",
    "For example, the purpose can be based on but not limited to - \n",
    "\n",
    "the type of activities that they are performing (releasing a version on every Sunday, updating the documentation), type of comments they are posting (reviewing code, test summary report), when are they triggered (when a new PR is created, when someone in the project ask the bot to merge the code) and so on. \\textbf{Note:} The purpose can be other than what is provided in examples above. \n"
   ]
  },
  {
   "cell_type": "code",
   "execution_count": 15,
   "id": "64569eb1-7faa-46e4-bb81-02bb1058b2a7",
   "metadata": {},
   "outputs": [],
   "source": [
    "# svc-devtoolsbot : - Commits on homebrew-core everytime a new version of mongosh is released\n",
    "#                   - Create release on mongosh\n"
   ]
  },
  {
   "cell_type": "markdown",
   "id": "0b41eb2e-b481-4502-94b3-f0d28eb8f76a",
   "metadata": {},
   "source": [
    "### Question 4"
   ]
  },
  {
   "cell_type": "markdown",
   "id": "3ad85279-0ee8-49de-8c5a-bf0850494772",
   "metadata": {},
   "source": [
    "#### Create a column named 'type' to the CSV ﬁle and write your ﬁnal decision on the type of contributor. The ﬁnal decision on their type is the prediciton that majority of the raters predicted (you can ignore the 'Unknown'), in the case of contradiction, you can finalise it as Human.\n",
    "#### Case 1: If two raters has mentioned a contributor as Bot and others mentioned it as 'Unknown', then the type of the account is Bot.  \n",
    "#### Case 2: If 3 raters give 'Unknown' to a contributor then the prediction given by the fourth rater is final.\n",
    "#### Case 3: If 2 raters give the prediciton as 'Bot' and 2 raters give it as 'Human', then the final decision is 'Human'\n",
    "#### In this step, GitHub Apps should be marked as App and not as a Bot."
   ]
  },
  {
   "cell_type": "code",
   "execution_count": 16,
   "id": "1040a69f-25cb-467a-9afd-6f32f6ae2a6e",
   "metadata": {},
   "outputs": [
    {
     "data": {
      "text/html": [
       "<div>\n",
       "<style scoped>\n",
       "    .dataframe tbody tr th:only-of-type {\n",
       "        vertical-align: middle;\n",
       "    }\n",
       "\n",
       "    .dataframe tbody tr th {\n",
       "        vertical-align: top;\n",
       "    }\n",
       "\n",
       "    .dataframe thead th {\n",
       "        text-align: right;\n",
       "    }\n",
       "</style>\n",
       "<table border=\"1\" class=\"dataframe\">\n",
       "  <thead>\n",
       "    <tr style=\"text-align: right;\">\n",
       "      <th></th>\n",
       "      <th>contributor</th>\n",
       "      <th>bothunter</th>\n",
       "      <th>app</th>\n",
       "      <th>bodegha</th>\n",
       "      <th>rabbit</th>\n",
       "      <th>type</th>\n",
       "    </tr>\n",
       "  </thead>\n",
       "  <tbody>\n",
       "    <tr>\n",
       "      <th>0</th>\n",
       "      <td>TanvirBhuiyan19</td>\n",
       "      <td>Human</td>\n",
       "      <td>False</td>\n",
       "      <td>Unknown</td>\n",
       "      <td>Human</td>\n",
       "      <td>Human</td>\n",
       "    </tr>\n",
       "    <tr>\n",
       "      <th>1</th>\n",
       "      <td>AkihiroSuda</td>\n",
       "      <td>Human</td>\n",
       "      <td>False</td>\n",
       "      <td>Bot</td>\n",
       "      <td>Human</td>\n",
       "      <td>Human</td>\n",
       "    </tr>\n",
       "    <tr>\n",
       "      <th>2</th>\n",
       "      <td>xwjdsh</td>\n",
       "      <td>Human</td>\n",
       "      <td>False</td>\n",
       "      <td>Unknown</td>\n",
       "      <td>Human</td>\n",
       "      <td>Human</td>\n",
       "    </tr>\n",
       "    <tr>\n",
       "      <th>3</th>\n",
       "      <td>spaam</td>\n",
       "      <td>Human</td>\n",
       "      <td>False</td>\n",
       "      <td>Unknown</td>\n",
       "      <td>Bot</td>\n",
       "      <td>Human</td>\n",
       "    </tr>\n",
       "    <tr>\n",
       "      <th>4</th>\n",
       "      <td>messense</td>\n",
       "      <td>Human</td>\n",
       "      <td>False</td>\n",
       "      <td>Unknown</td>\n",
       "      <td>Human</td>\n",
       "      <td>Human</td>\n",
       "    </tr>\n",
       "    <tr>\n",
       "      <th>5</th>\n",
       "      <td>woodruffw</td>\n",
       "      <td>Human</td>\n",
       "      <td>False</td>\n",
       "      <td>Human</td>\n",
       "      <td>Human</td>\n",
       "      <td>Human</td>\n",
       "    </tr>\n",
       "    <tr>\n",
       "      <th>6</th>\n",
       "      <td>dev-errant</td>\n",
       "      <td>Human</td>\n",
       "      <td>False</td>\n",
       "      <td>Unknown</td>\n",
       "      <td>Bot</td>\n",
       "      <td>Human</td>\n",
       "    </tr>\n",
       "    <tr>\n",
       "      <th>7</th>\n",
       "      <td>ryenus</td>\n",
       "      <td>Human</td>\n",
       "      <td>False</td>\n",
       "      <td>Unknown</td>\n",
       "      <td>Human</td>\n",
       "      <td>Human</td>\n",
       "    </tr>\n",
       "    <tr>\n",
       "      <th>8</th>\n",
       "      <td>coffeegoddd</td>\n",
       "      <td>Human</td>\n",
       "      <td>False</td>\n",
       "      <td>Unknown</td>\n",
       "      <td>Bot</td>\n",
       "      <td>Human</td>\n",
       "    </tr>\n",
       "    <tr>\n",
       "      <th>9</th>\n",
       "      <td>scpeters</td>\n",
       "      <td>Human</td>\n",
       "      <td>False</td>\n",
       "      <td>Human</td>\n",
       "      <td>Human</td>\n",
       "      <td>Human</td>\n",
       "    </tr>\n",
       "  </tbody>\n",
       "</table>\n",
       "</div>"
      ],
      "text/plain": [
       "       contributor bothunter    app  bodegha rabbit   type\n",
       "0  TanvirBhuiyan19     Human  False  Unknown  Human  Human\n",
       "1      AkihiroSuda     Human  False      Bot  Human  Human\n",
       "2           xwjdsh     Human  False  Unknown  Human  Human\n",
       "3            spaam     Human  False  Unknown    Bot  Human\n",
       "4         messense     Human  False  Unknown  Human  Human\n",
       "5        woodruffw     Human  False    Human  Human  Human\n",
       "6       dev-errant     Human  False  Unknown    Bot  Human\n",
       "7           ryenus     Human  False  Unknown  Human  Human\n",
       "8      coffeegoddd     Human  False  Unknown    Bot  Human\n",
       "9         scpeters     Human  False    Human  Human  Human"
      ]
     },
     "execution_count": 16,
     "metadata": {},
     "output_type": "execute_result"
    }
   ],
   "source": [
    "# Make a final decision on the type based on the predictions given by bothunter, bodegha, bothunter and your manual labelling. \n",
    "# Now your df should contain seven columns - contributor, bothunter, app, bodegha, rabbit, manual and type\n",
    "\n",
    "# YOUR CODE BELOW\n",
    "# for each row, if the prediction is the same for all the columns, then that is the final decision\n",
    "# if the predictions are different, then the final decision is the maximum occuring prediction\n",
    "# if there is a tie, then the final decision is 'Human'\n",
    "# Ignore the 'Unkowns\"\n",
    "\n",
    "# YOUR CODE BELOW\n",
    "list = []\n",
    "for index, row in df.iterrows():\n",
    "    contributor = row['contributor']\n",
    "    app = row['app']\n",
    "    predictions = row[['bothunter', 'bodegha', 'rabbit']]\n",
    "    bot = 0\n",
    "    human = 0\n",
    "    for prediction in predictions:\n",
    "        if prediction == 'Bot':\n",
    "            bot += 1\n",
    "        elif prediction == 'Human':\n",
    "            human += 1\n",
    "    if bot > human:\n",
    "        if app:\n",
    "            final_prediction = 'App'\n",
    "        else:\n",
    "            final_prediction = 'Bot'\n",
    "    else:\n",
    "        final_prediction = 'Human'\n",
    "\n",
    "    list.append({'contributor': contributor, 'type': final_prediction})\n",
    "\n",
    "final_df = pd.DataFrame.from_dict(list)\n",
    "final_df.head(n=10)\n",
    "df_type = pd.merge(df, final_df, on='contributor')\n",
    "df_type.head(n=10)\n"
   ]
  },
  {
   "cell_type": "markdown",
   "id": "40f47f01-f3be-4309-b37c-e23b4887db93",
   "metadata": {},
   "source": [
    "### Question 5 (a)\n",
    "\n",
    "#### Compute and report the Fleiss Kappa interrater agreement score between the labels computed by all bot identiﬁcation tools."
   ]
  },
  {
   "cell_type": "markdown",
   "id": "4c828483-7d39-40b0-be45-e61264daa1bd",
   "metadata": {},
   "source": [
    "##### For example:\n",
    "\n",
    "converted_df = aggregate_raters(np.array(df[['rater1','rater2']]))  \n",
    "kappa = fleiss_kappa(converted_df[0])  \n",
    "print('kappa')  "
   ]
  },
  {
   "cell_type": "markdown",
   "id": "e94e819d-1e1b-4e00-935c-617f7b4585f5",
   "metadata": {},
   "source": [
    "#### a. between bothunter and rabbit"
   ]
  },
  {
   "cell_type": "code",
   "execution_count": 17,
   "id": "a72de000-7e18-4e38-a8d0-f0779c2df4dd",
   "metadata": {},
   "outputs": [
    {
     "name": "stdout",
     "output_type": "stream",
     "text": [
      "Kappa for bothunter and rabbit: 0.4188861985472156\n"
     ]
    }
   ],
   "source": [
    "df_a = aggregate_raters(np.array(df_type[['bothunter', 'rabbit']]))\n",
    "kappa_a = fleiss_kappa(df_a[0])\n",
    "print(f\"Kappa for bothunter and rabbit: {kappa_a}\")"
   ]
  },
  {
   "cell_type": "markdown",
   "id": "43b8246f-3071-4642-a0d5-737c5e462f9f",
   "metadata": {},
   "source": [
    "#### b. between bothunter and bodegha"
   ]
  },
  {
   "cell_type": "code",
   "execution_count": 18,
   "id": "cbecc6ac-b80a-4e2d-a944-ceaf61cb6874",
   "metadata": {},
   "outputs": [
    {
     "name": "stdout",
     "output_type": "stream",
     "text": [
      "Kappa for bothunter and rabbit: -0.1903540277065161\n"
     ]
    }
   ],
   "source": [
    "df_b = aggregate_raters(np.array(df_type[[\"bothunter\", \"bodegha\"]]))\n",
    "kappa_b = fleiss_kappa(df_b[0])\n",
    "print(f\"Kappa for bothunter and rabbit: {kappa_b}\")"
   ]
  },
  {
   "cell_type": "markdown",
   "id": "bc8ae1a7-f3de-4218-9f10-412e35580490",
   "metadata": {},
   "source": [
    "#### c. between bodegha and rabbit"
   ]
  },
  {
   "cell_type": "code",
   "execution_count": 19,
   "id": "4504ad9e-96dc-4931-94f2-34bac64501ca",
   "metadata": {},
   "outputs": [
    {
     "name": "stdout",
     "output_type": "stream",
     "text": [
      "Kappa for bothunter and rabbit: -0.20446818844099077\n"
     ]
    }
   ],
   "source": [
    "df_c = aggregate_raters(np.array(df_type[[\"bodegha\", \"rabbit\"]]))\n",
    "kappa_c = fleiss_kappa(df_c[0])\n",
    "print(f\"Kappa for bothunter and rabbit: {kappa_c}\")"
   ]
  },
  {
   "cell_type": "markdown",
   "id": "5563de23-ee19-4845-ab53-f0ee825c3749",
   "metadata": {},
   "source": [
    "#### d. between bothunter, bodegha and rabbit"
   ]
  },
  {
   "cell_type": "code",
   "execution_count": 20,
   "id": "b09313d6-4b5d-4392-a7a5-d23fdf8763a3",
   "metadata": {},
   "outputs": [
    {
     "name": "stdout",
     "output_type": "stream",
     "text": [
      "Kappa for bothunter and rabbit: 0.01686060318214208\n"
     ]
    }
   ],
   "source": [
    "df_d = aggregate_raters(np.array(df_type[[\"bothunter\", \"rabbit\", \"bodegha\"]]))\n",
    "kappa_d = fleiss_kappa(df_d[0])\n",
    "print(f\"Kappa for bothunter and rabbit: {kappa_d}\")"
   ]
  },
  {
   "cell_type": "markdown",
   "id": "15475bd2-905a-4676-b68b-0ad24e7465ff",
   "metadata": {},
   "source": [
    "### Question 5 (b)\n",
    "#### Report on\n",
    "#### a. What is you interpretation from the kappa values (use the table provided in the description document)? what do you understand?"
   ]
  },
  {
   "cell_type": "code",
   "execution_count": 21,
   "id": "af8dd098-a2e3-4e87-a5cc-7347f00280e1",
   "metadata": {},
   "outputs": [],
   "source": [
    "# BotHunter and RABBIT have a kappa value of 0.4189 which is considered as moderate agreement.\n",
    "# BotHunter and BoDeGHa have a kappa value of -0.1904 which is considered as slight agreement.\n",
    "# BoDeGHa and RABBIT have a kappa value of -0.2045 which is considered as fair agreement.\n",
    "\n",
    "# All three together have a kappa value of 0.01687 which is considered as slight / no agreement.\n",
    "\n",
    "# -> botHunter and RABBIT have the best agreement"
   ]
  },
  {
   "cell_type": "markdown",
   "id": "7e9462bc-95d6-4fd8-8231-f6e13f19c2eb",
   "metadata": {},
   "source": [
    "#### b. Based on your previous analysis, which bot identification tool would you use, if you want to predict if a contributor is a human or bot? Motivate your answer"
   ]
  },
  {
   "cell_type": "code",
   "execution_count": 22,
   "id": "23f9e9ad-4392-43bb-afb3-b33bfa472c50",
   "metadata": {},
   "outputs": [],
   "source": [
    "# Each time BoDeGHa is used, it disagrees with the other tools. However, Rabbit and BotHunter have a moderate agreement.\n",
    "# I would use BotHunter or Rabbit to make a decision.\n",
    "# With these results, I don't really if we can make a better decision. "
   ]
  },
  {
   "cell_type": "markdown",
   "id": "88945f23-8222-4925-b6fc-b049b0761a7a",
   "metadata": {},
   "source": [
    "## Section 5"
   ]
  },
  {
   "cell_type": "markdown",
   "id": "0158557e-2389-45c2-b725-8782923d0f87",
   "metadata": {},
   "source": [
    "#### Query the GitHub Events API to get maximum possible events for each contributor (maximum is 300 events).  \n",
    "#### You can use the following query: '{QUERY_ROOT}/users/{contributor}/events?per_page=100&page={page}' where page = 1 or 2 or 3  \n",
    "#### As you did in earlier task, make a request to GitHub Events API with the required headers, convert the response to JSON, extract the following fields and store in a DataFrame:\n",
    "Event id - json_response['event_id']  \n",
    "Name of the contributor - json_response['actor']['login']  \n",
    "Name of the repository - json_response['repository']['name']  \n",
    "Type of event - json_response['type']  \n",
    "Time of event - json_response['created_at']\n",
    "\n",
    "#### Hint: Query the GitHubEvents API for all contributors. Append the obtained JSON result to a list of JSONs. Process one dictionary after other to get your required fields and store them in another list of dictionaries. Finally convert this dictionaty to DataFrame. OR You can directly convert the list of JSONs to DataFrame using pd.json_normalize() and select the required columns alone.\n",
    "\n",
    "#### The resultant dataframe should have all the recent events performed by all the contributors and the following columns should be present in them - event_id, contributor, repo_name, event_type, created_at.\n"
   ]
  },
  {
   "cell_type": "code",
   "execution_count": 23,
   "id": "a32aae1c-037c-4428-b962-97d1aae2075e",
   "metadata": {},
   "outputs": [],
   "source": [
    "# YOUR CODE BELOW\n",
    "event_list = []\n",
    "for user in contributors:\n",
    "    for k in range(1,4):\n",
    "        query = f\"{QUERY_ROOT}/users/{user}/events?per_page=100&page={k}\"\n",
    "        response = requests.get(query, headers=HEADERS)\n",
    "        json_response = response.json()\n",
    "        for event in json_response:\n",
    "            event_dict = {}\n",
    "            event_dict['event_id'] = event['id']\n",
    "            event_dict[\"contributor\"]= event['actor']['login']\n",
    "            event_dict[\"repository\"] = event['repo']['name']\n",
    "            event_dict[\"type\"] = event['type']\n",
    "            event_dict[\"created_at\"] = event['created_at']\n",
    "            event_list.append(event_dict)\n",
    "\n",
    "event_df = pd.DataFrame.from_dict(event_list)"
   ]
  },
  {
   "cell_type": "code",
   "execution_count": 24,
   "id": "fe77754f",
   "metadata": {},
   "outputs": [
    {
     "data": {
      "text/html": [
       "<div>\n",
       "<style scoped>\n",
       "    .dataframe tbody tr th:only-of-type {\n",
       "        vertical-align: middle;\n",
       "    }\n",
       "\n",
       "    .dataframe tbody tr th {\n",
       "        vertical-align: top;\n",
       "    }\n",
       "\n",
       "    .dataframe thead th {\n",
       "        text-align: right;\n",
       "    }\n",
       "</style>\n",
       "<table border=\"1\" class=\"dataframe\">\n",
       "  <thead>\n",
       "    <tr style=\"text-align: right;\">\n",
       "      <th></th>\n",
       "      <th>event_id</th>\n",
       "      <th>contributor</th>\n",
       "      <th>repository</th>\n",
       "      <th>type</th>\n",
       "      <th>created_at</th>\n",
       "    </tr>\n",
       "  </thead>\n",
       "  <tbody>\n",
       "    <tr>\n",
       "      <th>0</th>\n",
       "      <td>36619627668</td>\n",
       "      <td>TanvirBhuiyan19</td>\n",
       "      <td>CodeWaveWithAsante/FLAVORVERSE</td>\n",
       "      <td>WatchEvent</td>\n",
       "      <td>2024-03-17T11:25:42Z</td>\n",
       "    </tr>\n",
       "    <tr>\n",
       "      <th>1</th>\n",
       "      <td>36619627528</td>\n",
       "      <td>TanvirBhuiyan19</td>\n",
       "      <td>NanmiCoder/MediaCrawler</td>\n",
       "      <td>WatchEvent</td>\n",
       "      <td>2024-03-17T11:25:41Z</td>\n",
       "    </tr>\n",
       "    <tr>\n",
       "      <th>2</th>\n",
       "      <td>36619627385</td>\n",
       "      <td>TanvirBhuiyan19</td>\n",
       "      <td>tiangolo/full-stack-fastapi-template</td>\n",
       "      <td>WatchEvent</td>\n",
       "      <td>2024-03-17T11:25:40Z</td>\n",
       "    </tr>\n",
       "    <tr>\n",
       "      <th>3</th>\n",
       "      <td>36619626389</td>\n",
       "      <td>TanvirBhuiyan19</td>\n",
       "      <td>Talha836902/amazon-clone-main</td>\n",
       "      <td>WatchEvent</td>\n",
       "      <td>2024-03-17T11:25:32Z</td>\n",
       "    </tr>\n",
       "    <tr>\n",
       "      <th>4</th>\n",
       "      <td>36616459909</td>\n",
       "      <td>TanvirBhuiyan19</td>\n",
       "      <td>enorsia/assets</td>\n",
       "      <td>PushEvent</td>\n",
       "      <td>2024-03-17T04:24:44Z</td>\n",
       "    </tr>\n",
       "    <tr>\n",
       "      <th>5</th>\n",
       "      <td>36409764770</td>\n",
       "      <td>TanvirBhuiyan19</td>\n",
       "      <td>enorsia/assets</td>\n",
       "      <td>PushEvent</td>\n",
       "      <td>2024-03-10T13:23:46Z</td>\n",
       "    </tr>\n",
       "    <tr>\n",
       "      <th>6</th>\n",
       "      <td>36407651586</td>\n",
       "      <td>TanvirBhuiyan19</td>\n",
       "      <td>enorsia/assets</td>\n",
       "      <td>PushEvent</td>\n",
       "      <td>2024-03-10T10:00:28Z</td>\n",
       "    </tr>\n",
       "    <tr>\n",
       "      <th>7</th>\n",
       "      <td>36405830425</td>\n",
       "      <td>TanvirBhuiyan19</td>\n",
       "      <td>enorsia/assets</td>\n",
       "      <td>CreateEvent</td>\n",
       "      <td>2024-03-10T06:32:08Z</td>\n",
       "    </tr>\n",
       "    <tr>\n",
       "      <th>8</th>\n",
       "      <td>36084985024</td>\n",
       "      <td>TanvirBhuiyan19</td>\n",
       "      <td>instill-ai/instill-core</td>\n",
       "      <td>WatchEvent</td>\n",
       "      <td>2024-02-28T11:35:47Z</td>\n",
       "    </tr>\n",
       "    <tr>\n",
       "      <th>9</th>\n",
       "      <td>36084984640</td>\n",
       "      <td>TanvirBhuiyan19</td>\n",
       "      <td>Udemig/9-Hafta-ici-Crud</td>\n",
       "      <td>WatchEvent</td>\n",
       "      <td>2024-02-28T11:35:46Z</td>\n",
       "    </tr>\n",
       "  </tbody>\n",
       "</table>\n",
       "</div>"
      ],
      "text/plain": [
       "      event_id      contributor                            repository  \\\n",
       "0  36619627668  TanvirBhuiyan19        CodeWaveWithAsante/FLAVORVERSE   \n",
       "1  36619627528  TanvirBhuiyan19               NanmiCoder/MediaCrawler   \n",
       "2  36619627385  TanvirBhuiyan19  tiangolo/full-stack-fastapi-template   \n",
       "3  36619626389  TanvirBhuiyan19         Talha836902/amazon-clone-main   \n",
       "4  36616459909  TanvirBhuiyan19                        enorsia/assets   \n",
       "5  36409764770  TanvirBhuiyan19                        enorsia/assets   \n",
       "6  36407651586  TanvirBhuiyan19                        enorsia/assets   \n",
       "7  36405830425  TanvirBhuiyan19                        enorsia/assets   \n",
       "8  36084985024  TanvirBhuiyan19               instill-ai/instill-core   \n",
       "9  36084984640  TanvirBhuiyan19               Udemig/9-Hafta-ici-Crud   \n",
       "\n",
       "          type            created_at  \n",
       "0   WatchEvent  2024-03-17T11:25:42Z  \n",
       "1   WatchEvent  2024-03-17T11:25:41Z  \n",
       "2   WatchEvent  2024-03-17T11:25:40Z  \n",
       "3   WatchEvent  2024-03-17T11:25:32Z  \n",
       "4    PushEvent  2024-03-17T04:24:44Z  \n",
       "5    PushEvent  2024-03-10T13:23:46Z  \n",
       "6    PushEvent  2024-03-10T10:00:28Z  \n",
       "7  CreateEvent  2024-03-10T06:32:08Z  \n",
       "8   WatchEvent  2024-02-28T11:35:47Z  \n",
       "9   WatchEvent  2024-02-28T11:35:46Z  "
      ]
     },
     "execution_count": 24,
     "metadata": {},
     "output_type": "execute_result"
    }
   ],
   "source": [
    "event_df.head(n=10)"
   ]
  },
  {
   "cell_type": "code",
   "execution_count": 25,
   "id": "82777ff5",
   "metadata": {},
   "outputs": [],
   "source": [
    "# Save event_df to csv\n",
    "event_df.to_csv(\"homebrew_homebrew-core_3/events.csv\", index=False)"
   ]
  },
  {
   "cell_type": "markdown",
   "id": "6d107b13-0c4f-4a56-a284-596f73a53d2f",
   "metadata": {},
   "source": [
    "### Question 1\n",
    "#### Group each event into the following four categories\n",
    "\n",
    "Issues: IssueCommentEvent, IssuesEvent  \n",
    "Pull Requests: PullRequestEvent, PullRequestReviewCommentEvent  \n",
    "Commits: CommitCommentEvent, PushEvent  \n",
    "Repository: CreateEvent, DeleteEvent, ForkEvent, GollumEvent, MemberEvent, PublicEvent, ReleaseEvent, SponsorshipEvent, WatchEvent  \n",
    "\n",
    "#### Hint:\n",
    "1. Add a column called event_group that mentions which event group does that event belong to. Each event (row) should correspond to an event group.  \n",
    "2. Then perform groupby on ['contributor','event_group'],  \n",
    "3. use .agg (https://pandas.pydata.org/pandas-docs/stable/reference/api/pandas.DataFrame.agg.html) to count the number of events performed by each contributor in each group,  \n",
    "4. use pivot with the required arguments (https://pandas.pydata.org/pandas-docs/stable/reference/api/pandas.DataFrame.pivot.html). An example is given [here](#pivot_example) in question 2(b), and  \n",
    "5. finally merge it with your 'type' field from the DataFrame you got in Section4\n",
    "\n",
    "The final DataFrame should be looking like the following  \n",
    "![](event_group.png)"
   ]
  },
  {
   "cell_type": "code",
   "execution_count": 26,
   "id": "06072cfd-9de7-4e25-a3fa-11296a728484",
   "metadata": {},
   "outputs": [],
   "source": [
    "# In the resultant DataFrame - each row should corespond to a contributor, and the columns should have all the event groups  \n",
    "# and the type of the contributor (that you decided in the previous DataFrame) and the values should be the number \n",
    "# of events of that event event group the contriubutor has performed.\n",
    "\n",
    "# read csv\n",
    "event_df = pd.read_csv(\"homebrew_homebrew-core_3/events.csv\")\n",
    "\n",
    "issue_group = ['IssueCommentEvent', 'IssuesEvent']\n",
    "pr_group = ['PullRequestEvent', 'PullRequestReviewCommentEvent']\n",
    "commit_group = ['CommitCommentEvent', 'PushEvent']\n",
    "repo_group = ['CreateEvent', 'DeleteEvent', 'ForkEvent', 'GollumEvent', 'MemberEvent', 'PublicEvent', 'ReleaseEvent', 'SponsorshipEvent', 'WatchEvent']"
   ]
  },
  {
   "cell_type": "code",
   "execution_count": 27,
   "id": "326eaddf-c6f2-4e7e-a3e1-37183a3c90ca",
   "metadata": {},
   "outputs": [
    {
     "name": "stderr",
     "output_type": "stream",
     "text": [
      "/tmp/ipykernel_182767/311261918.py:5: FutureWarning: Setting an item of incompatible dtype is deprecated and will raise in a future error of pandas. Value 'issue' has dtype incompatible with float64, please explicitly cast to a compatible dtype first.\n",
      "  event_df.loc[event_df['type'].isin(issue_group), 'event_group'] = 'issue'\n"
     ]
    },
    {
     "data": {
      "text/html": [
       "<div>\n",
       "<style scoped>\n",
       "    .dataframe tbody tr th:only-of-type {\n",
       "        vertical-align: middle;\n",
       "    }\n",
       "\n",
       "    .dataframe tbody tr th {\n",
       "        vertical-align: top;\n",
       "    }\n",
       "\n",
       "    .dataframe thead th {\n",
       "        text-align: right;\n",
       "    }\n",
       "</style>\n",
       "<table border=\"1\" class=\"dataframe\">\n",
       "  <thead>\n",
       "    <tr style=\"text-align: right;\">\n",
       "      <th></th>\n",
       "      <th>contributor</th>\n",
       "      <th>event_group</th>\n",
       "      <th>num_event</th>\n",
       "    </tr>\n",
       "  </thead>\n",
       "  <tbody>\n",
       "    <tr>\n",
       "      <th>0</th>\n",
       "      <td>AkihiroSuda</td>\n",
       "      <td>PR</td>\n",
       "      <td>100</td>\n",
       "    </tr>\n",
       "    <tr>\n",
       "      <th>1</th>\n",
       "      <td>AkihiroSuda</td>\n",
       "      <td>commit</td>\n",
       "      <td>44</td>\n",
       "    </tr>\n",
       "    <tr>\n",
       "      <th>2</th>\n",
       "      <td>AkihiroSuda</td>\n",
       "      <td>issue</td>\n",
       "      <td>39</td>\n",
       "    </tr>\n",
       "    <tr>\n",
       "      <th>3</th>\n",
       "      <td>AkihiroSuda</td>\n",
       "      <td>repo</td>\n",
       "      <td>9</td>\n",
       "    </tr>\n",
       "    <tr>\n",
       "      <th>4</th>\n",
       "      <td>ArduinoBot</td>\n",
       "      <td>PR</td>\n",
       "      <td>27</td>\n",
       "    </tr>\n",
       "    <tr>\n",
       "      <th>5</th>\n",
       "      <td>ArduinoBot</td>\n",
       "      <td>commit</td>\n",
       "      <td>1</td>\n",
       "    </tr>\n",
       "    <tr>\n",
       "      <th>6</th>\n",
       "      <td>ArduinoBot</td>\n",
       "      <td>repo</td>\n",
       "      <td>8</td>\n",
       "    </tr>\n",
       "    <tr>\n",
       "      <th>7</th>\n",
       "      <td>MikeMcQuaid</td>\n",
       "      <td>PR</td>\n",
       "      <td>74</td>\n",
       "    </tr>\n",
       "    <tr>\n",
       "      <th>8</th>\n",
       "      <td>MikeMcQuaid</td>\n",
       "      <td>commit</td>\n",
       "      <td>44</td>\n",
       "    </tr>\n",
       "    <tr>\n",
       "      <th>9</th>\n",
       "      <td>MikeMcQuaid</td>\n",
       "      <td>issue</td>\n",
       "      <td>84</td>\n",
       "    </tr>\n",
       "  </tbody>\n",
       "</table>\n",
       "</div>"
      ],
      "text/plain": [
       "   contributor event_group  num_event\n",
       "0  AkihiroSuda          PR        100\n",
       "1  AkihiroSuda      commit         44\n",
       "2  AkihiroSuda       issue         39\n",
       "3  AkihiroSuda        repo          9\n",
       "4   ArduinoBot          PR         27\n",
       "5   ArduinoBot      commit          1\n",
       "6   ArduinoBot        repo          8\n",
       "7  MikeMcQuaid          PR         74\n",
       "8  MikeMcQuaid      commit         44\n",
       "9  MikeMcQuaid       issue         84"
      ]
     },
     "execution_count": 27,
     "metadata": {},
     "output_type": "execute_result"
    }
   ],
   "source": [
    "import numpy as np\n",
    "\n",
    "# YOUR CODE BELOW\n",
    "event_df['event_group'] = np.nan\n",
    "event_df.loc[event_df['type'].isin(issue_group), 'event_group'] = 'issue'\n",
    "event_df.loc[event_df['type'].isin(pr_group), 'event_group'] = 'PR'\n",
    "event_df.loc[event_df['type'].isin(commit_group), 'event_group'] = 'commit'\n",
    "event_df.loc[event_df['type'].isin(repo_group), 'event_group'] = 'repo'\n",
    "\n",
    "# 3\n",
    "grouped = event_df.groupby(['contributor', 'event_group']).agg(num_event=('event_id', 'count')).reset_index()\n",
    "\n",
    "grouped.head(n=10)\n"
   ]
  },
  {
   "cell_type": "code",
   "execution_count": 28,
   "id": "3b8b35af-92af-4ffd-8d99-2dd34d865ac1",
   "metadata": {},
   "outputs": [
    {
     "name": "stdout",
     "output_type": "stream",
     "text": [
      "event_group        contributor     PR  commit  issue  repo\n",
      "0                  AkihiroSuda  100.0    44.0   39.0   9.0\n",
      "1                   ArduinoBot   27.0     1.0    NaN   8.0\n",
      "2                  MikeMcQuaid   74.0    44.0   84.0  27.0\n",
      "3              TanvirBhuiyan19    NaN     3.0    NaN  84.0\n",
      "4                     aliscott  152.0    58.0    4.0  41.0\n",
      "5                   bashofmann   65.0    67.0   17.0  39.0\n",
      "6            blockstack-devops    6.0    34.0  101.0  69.0\n",
      "7                   chenrui333   53.0    61.0   17.0  45.0\n",
      "8                   chiefmikey   62.0   132.0    7.0  67.0\n",
      "9                  coffeegoddd   75.0    44.0   67.0  52.0\n"
     ]
    }
   ],
   "source": [
    "# YOUR CODE BELOW\n",
    "# use pivot\n",
    "pivot_df = grouped.pivot(index='contributor', columns='event_group', values='num_event').reset_index()\n",
    "print(pivot_df.head(n=10))"
   ]
  },
  {
   "cell_type": "code",
   "execution_count": 29,
   "id": "62416304",
   "metadata": {},
   "outputs": [
    {
     "data": {
      "text/html": [
       "<div>\n",
       "<style scoped>\n",
       "    .dataframe tbody tr th:only-of-type {\n",
       "        vertical-align: middle;\n",
       "    }\n",
       "\n",
       "    .dataframe tbody tr th {\n",
       "        vertical-align: top;\n",
       "    }\n",
       "\n",
       "    .dataframe thead th {\n",
       "        text-align: right;\n",
       "    }\n",
       "</style>\n",
       "<table border=\"1\" class=\"dataframe\">\n",
       "  <thead>\n",
       "    <tr style=\"text-align: right;\">\n",
       "      <th></th>\n",
       "      <th>contributor</th>\n",
       "      <th>type</th>\n",
       "      <th>PR</th>\n",
       "      <th>commit</th>\n",
       "      <th>issue</th>\n",
       "      <th>repo</th>\n",
       "    </tr>\n",
       "  </thead>\n",
       "  <tbody>\n",
       "    <tr>\n",
       "      <th>0</th>\n",
       "      <td>TanvirBhuiyan19</td>\n",
       "      <td>Human</td>\n",
       "      <td>NaN</td>\n",
       "      <td>3.0</td>\n",
       "      <td>NaN</td>\n",
       "      <td>84.0</td>\n",
       "    </tr>\n",
       "    <tr>\n",
       "      <th>1</th>\n",
       "      <td>AkihiroSuda</td>\n",
       "      <td>Human</td>\n",
       "      <td>100.0</td>\n",
       "      <td>44.0</td>\n",
       "      <td>39.0</td>\n",
       "      <td>9.0</td>\n",
       "    </tr>\n",
       "    <tr>\n",
       "      <th>2</th>\n",
       "      <td>xwjdsh</td>\n",
       "      <td>Human</td>\n",
       "      <td>19.0</td>\n",
       "      <td>87.0</td>\n",
       "      <td>12.0</td>\n",
       "      <td>74.0</td>\n",
       "    </tr>\n",
       "    <tr>\n",
       "      <th>3</th>\n",
       "      <td>spaam</td>\n",
       "      <td>Human</td>\n",
       "      <td>NaN</td>\n",
       "      <td>NaN</td>\n",
       "      <td>18.0</td>\n",
       "      <td>NaN</td>\n",
       "    </tr>\n",
       "    <tr>\n",
       "      <th>4</th>\n",
       "      <td>messense</td>\n",
       "      <td>Human</td>\n",
       "      <td>51.0</td>\n",
       "      <td>89.0</td>\n",
       "      <td>80.0</td>\n",
       "      <td>41.0</td>\n",
       "    </tr>\n",
       "    <tr>\n",
       "      <th>5</th>\n",
       "      <td>woodruffw</td>\n",
       "      <td>Human</td>\n",
       "      <td>80.0</td>\n",
       "      <td>73.0</td>\n",
       "      <td>41.0</td>\n",
       "      <td>44.0</td>\n",
       "    </tr>\n",
       "    <tr>\n",
       "      <th>6</th>\n",
       "      <td>dev-errant</td>\n",
       "      <td>Human</td>\n",
       "      <td>1.0</td>\n",
       "      <td>14.0</td>\n",
       "      <td>NaN</td>\n",
       "      <td>6.0</td>\n",
       "    </tr>\n",
       "    <tr>\n",
       "      <th>7</th>\n",
       "      <td>ryenus</td>\n",
       "      <td>Human</td>\n",
       "      <td>3.0</td>\n",
       "      <td>32.0</td>\n",
       "      <td>7.0</td>\n",
       "      <td>15.0</td>\n",
       "    </tr>\n",
       "    <tr>\n",
       "      <th>8</th>\n",
       "      <td>coffeegoddd</td>\n",
       "      <td>Human</td>\n",
       "      <td>75.0</td>\n",
       "      <td>44.0</td>\n",
       "      <td>67.0</td>\n",
       "      <td>52.0</td>\n",
       "    </tr>\n",
       "    <tr>\n",
       "      <th>9</th>\n",
       "      <td>scpeters</td>\n",
       "      <td>Human</td>\n",
       "      <td>89.0</td>\n",
       "      <td>48.0</td>\n",
       "      <td>60.0</td>\n",
       "      <td>40.0</td>\n",
       "    </tr>\n",
       "  </tbody>\n",
       "</table>\n",
       "</div>"
      ],
      "text/plain": [
       "       contributor   type     PR  commit  issue  repo\n",
       "0  TanvirBhuiyan19  Human    NaN     3.0    NaN  84.0\n",
       "1      AkihiroSuda  Human  100.0    44.0   39.0   9.0\n",
       "2           xwjdsh  Human   19.0    87.0   12.0  74.0\n",
       "3            spaam  Human    NaN     NaN   18.0   NaN\n",
       "4         messense  Human   51.0    89.0   80.0  41.0\n",
       "5        woodruffw  Human   80.0    73.0   41.0  44.0\n",
       "6       dev-errant  Human    1.0    14.0    NaN   6.0\n",
       "7           ryenus  Human    3.0    32.0    7.0  15.0\n",
       "8      coffeegoddd  Human   75.0    44.0   67.0  52.0\n",
       "9         scpeters  Human   89.0    48.0   60.0  40.0"
      ]
     },
     "execution_count": 29,
     "metadata": {},
     "output_type": "execute_result"
    }
   ],
   "source": [
    "# merge\n",
    "final_df = pd.merge(df_type, pivot_df, on='contributor')\n",
    "# Remove columns that are not needed\n",
    "final_df = final_df.drop(['bothunter', 'bodegha', 'rabbit', 'app'], axis=1)\n",
    "final_df.head(n=10)"
   ]
  },
  {
   "cell_type": "code",
   "execution_count": 30,
   "id": "1cd2f7a9",
   "metadata": {},
   "outputs": [],
   "source": [
    "# Save to CSV\n",
    "final_df.to_csv(\"homebrew_homebrew-core_3/event_type.csv\", index=False)"
   ]
  },
  {
   "cell_type": "markdown",
   "id": "afca3310-5bef-48f5-be38-e0861d5c43b6",
   "metadata": {},
   "source": [
    "### Question 2 (a)\n",
    "\n",
    "#### Compute the median number of events per event group for Bot+Apps and Humans and write in DataFrame.\n",
    "\n",
    "Row should correspond to type (Bot_App and Human), Column should have Event group name and the values should be the median value of Bot_App or Human for that particular event group."
   ]
  },
  {
   "cell_type": "code",
   "execution_count": 31,
   "id": "1c3dc1ce-f19c-44b7-8fa1-35df0ffaa936",
   "metadata": {},
   "outputs": [
    {
     "data": {
      "text/html": [
       "<div>\n",
       "<style scoped>\n",
       "    .dataframe tbody tr th:only-of-type {\n",
       "        vertical-align: middle;\n",
       "    }\n",
       "\n",
       "    .dataframe tbody tr th {\n",
       "        vertical-align: top;\n",
       "    }\n",
       "\n",
       "    .dataframe thead th {\n",
       "        text-align: right;\n",
       "    }\n",
       "</style>\n",
       "<table border=\"1\" class=\"dataframe\">\n",
       "  <thead>\n",
       "    <tr style=\"text-align: right;\">\n",
       "      <th></th>\n",
       "      <th>event_group</th>\n",
       "      <th>median</th>\n",
       "      <th>type</th>\n",
       "    </tr>\n",
       "  </thead>\n",
       "  <tbody>\n",
       "    <tr>\n",
       "      <th>0</th>\n",
       "      <td>PR</td>\n",
       "      <td>19.0</td>\n",
       "      <td>Bot_app</td>\n",
       "    </tr>\n",
       "    <tr>\n",
       "      <th>1</th>\n",
       "      <td>PR</td>\n",
       "      <td>66.0</td>\n",
       "      <td>Human</td>\n",
       "    </tr>\n",
       "    <tr>\n",
       "      <th>2</th>\n",
       "      <td>commit</td>\n",
       "      <td>107.5</td>\n",
       "      <td>Bot_app</td>\n",
       "    </tr>\n",
       "    <tr>\n",
       "      <th>3</th>\n",
       "      <td>commit</td>\n",
       "      <td>71.5</td>\n",
       "      <td>Human</td>\n",
       "    </tr>\n",
       "    <tr>\n",
       "      <th>4</th>\n",
       "      <td>issue</td>\n",
       "      <td>75.5</td>\n",
       "      <td>Bot_app</td>\n",
       "    </tr>\n",
       "    <tr>\n",
       "      <th>5</th>\n",
       "      <td>issue</td>\n",
       "      <td>24.0</td>\n",
       "      <td>Human</td>\n",
       "    </tr>\n",
       "    <tr>\n",
       "      <th>6</th>\n",
       "      <td>repo</td>\n",
       "      <td>61.0</td>\n",
       "      <td>Bot_app</td>\n",
       "    </tr>\n",
       "    <tr>\n",
       "      <th>7</th>\n",
       "      <td>repo</td>\n",
       "      <td>51.5</td>\n",
       "      <td>Human</td>\n",
       "    </tr>\n",
       "  </tbody>\n",
       "</table>\n",
       "</div>"
      ],
      "text/plain": [
       "  event_group  median     type\n",
       "0          PR    19.0  Bot_app\n",
       "1          PR    66.0    Human\n",
       "2      commit   107.5  Bot_app\n",
       "3      commit    71.5    Human\n",
       "4       issue    75.5  Bot_app\n",
       "5       issue    24.0    Human\n",
       "6        repo    61.0  Bot_app\n",
       "7        repo    51.5    Human"
      ]
     },
     "execution_count": 31,
     "metadata": {},
     "output_type": "execute_result"
    }
   ],
   "source": [
    "# YOUR CODE BELOW\n",
    "# Group APP and Bot together\n",
    "\n",
    "medians = []\n",
    "for event_group in ['PR', 'commit', 'issue', 'repo']:\n",
    "    # APP & Bot\n",
    "    median_bot = final_df[(final_df['type'] == 'Bot') | (final_df['type'] == 'App')][event_group].median()\n",
    "    medians.append({'event_group': event_group, 'median': median_bot, 'type': 'Bot_app'})\n",
    "\n",
    "    # Human\n",
    "    median_human = final_df[final_df['type'] == 'Human'][event_group].median()\n",
    "    medians.append({'event_group': event_group, 'median': median_human, 'type': 'Human'})\n",
    "\n",
    "df_medians = pd.DataFrame.from_dict(medians)\n",
    "df_medians.head(n=10)"
   ]
  },
  {
   "cell_type": "markdown",
   "id": "8eafa8a6-3c98-41db-bebd-64adc634f77f",
   "metadata": {},
   "source": [
    "### Question 2 (b)\n",
    "\n",
    "Plot a heatmap of the DataFrame using seaborn - \n",
    "1. First convert the dataframe to the required format using pivot, example is given below\n",
    "2. plot using seaborn - sns.heatmap(df_medians, annot=True, vmin=0, vmax=300, cmap=\"crest\"). More details: https://seaborn.pydata.org/generated/seaborn.heatmap.html)"
   ]
  },
  {
   "cell_type": "code",
   "execution_count": 32,
   "id": "24478c26-f367-4589-85dc-3cfa22614f3e",
   "metadata": {},
   "outputs": [
    {
     "name": "stdout",
     "output_type": "stream",
     "text": [
      "      type    PR  commit  issue  repo\n",
      "0  Bot_app  19.0   107.5   75.5  61.0\n",
      "1    Human  66.0    71.5   24.0  51.5\n"
     ]
    }
   ],
   "source": [
    "# YOUR CODE BELOW\n",
    "df_medians = df_medians.pivot(index='type', columns='event_group', values='median').reset_index().rename_axis(None, axis=1)\n",
    "print(df_medians)"
   ]
  },
  {
   "cell_type": "code",
   "execution_count": 33,
   "id": "ab7b9ff6-1286-4c5b-a604-5459b6d2b099",
   "metadata": {},
   "outputs": [
    {
     "data": {
      "text/plain": [
       "<Axes: xlabel='type'>"
      ]
     },
     "execution_count": 33,
     "metadata": {},
     "output_type": "execute_result"
    },
    {
     "data": {
      "image/png": "[encoded data removed]",
      "text/plain": [
       "<Figure size 640x480 with 2 Axes>"
      ]
     },
     "metadata": {},
     "output_type": "display_data"
    }
   ],
   "source": [
    "# YOUR CODE BELOW\n",
    "# Plot the heatmap\n",
    "sns.heatmap(df_medians.set_index('type').T, vmin=0, vmax=300, annot=True, fmt=\"g\", cmap='coolwarm')\n"
   ]
  },
  {
   "cell_type": "markdown",
   "id": "19d518fd-10f0-4f91-a38e-595fe89f36a2",
   "metadata": {},
   "source": [
    "#### What is the difference that you observe between Bots+Apps and Humans?"
   ]
  },
  {
   "cell_type": "code",
   "execution_count": 34,
   "id": "df3a1600-7110-4866-9de3-42b85b407722",
   "metadata": {},
   "outputs": [],
   "source": [
    "# Overall, bots have a higher median number of events compared to humans."
   ]
  },
  {
   "cell_type": "markdown",
   "id": "1bbc377f-79bb-4b52-9bba-fe7cc4a804ab",
   "metadata": {},
   "source": [
    "#### What is the differnce that you observe between Event groups?"
   ]
  },
  {
   "cell_type": "code",
   "execution_count": 35,
   "id": "064cc1a2-c910-47a8-b327-deba02a815a1",
   "metadata": {},
   "outputs": [],
   "source": [
    "# There are more event of type 'commit' while the others are quite similar."
   ]
  },
  {
   "cell_type": "markdown",
   "id": "5e941d75-0450-46f4-9345-d7f109ff9b92",
   "metadata": {},
   "source": [
    "#### What is the difference that you observe between Bots+Apps and Humans and Event groups all considering at the same time?"
   ]
  },
  {
   "cell_type": "code",
   "execution_count": 36,
   "id": "7145cbf9-e9a6-4798-aa23-54428bc7f73b",
   "metadata": {},
   "outputs": [],
   "source": [
    "# Bots are more active in 'commit', 'repo' and 'issue' events compared to humans and humans are more active in 'PR' events."
   ]
  },
  {
   "cell_type": "markdown",
   "id": "5c402f2c-2628-4957-ac76-e48bb85564cf",
   "metadata": {},
   "source": [
    "### Question 3"
   ]
  },
  {
   "cell_type": "markdown",
   "id": "b7fd623c-4bc5-4cef-9649-fb8cdd41e981",
   "metadata": {},
   "source": [
    "#### Create box plots or boxen plots or violin plots or a combination of these to visualise the distribution of number of events in each event group. \n",
    "#### For more information you can visit - https://seaborn.pydata.org/tutorial/categorical.html#categorical-tutorial  \n",
    "#### For violin plots - https://seaborn.pydata.org/generated/seaborn.violinplot.html  \n",
    "#### You should highlight the data points that correspond to bots using a stripplot in seaborn. https://seaborn.pydata.org/tutorial/categorical.html#categorical-tutorial  \n",
    "#### Interpret the results of the visualisation."
   ]
  },
  {
   "cell_type": "code",
   "execution_count": 37,
   "id": "21a499ac-e0c7-4b0d-9f90-78b704a13ef2",
   "metadata": {},
   "outputs": [
    {
     "data": {
      "text/plain": [
       "<Axes: ylabel='PR'>"
      ]
     },
     "execution_count": 37,
     "metadata": {},
     "output_type": "execute_result"
    },
    {
     "data": {
      "image/png": "[encoded data removed]",
      "text/plain": [
       "<Figure size 640x480 with 1 Axes>"
      ]
     },
     "metadata": {},
     "output_type": "display_data"
    }
   ],
   "source": [
    "# YOUR CODE BELOW - Visualize number of events from pull request event group\n",
    "sns.violinplot(y='PR', data=final_df)\n",
    "sns.stripplot(\n",
    "    y=\"PR\",\n",
    "    data=final_df[(final_df[\"type\"] == \"Bot\")],\n",
    "    color=\"red\",\n",
    ")\n",
    "# This distribution seems skewed with all the bots in the lower range. \n",
    "# This plot could also show that there is two normal distributions in the data. (one for bots and one for humans ?)"
   ]
  },
  {
   "cell_type": "code",
   "execution_count": 38,
   "id": "330c9d73-28a9-4d83-9728-cf595374235b",
   "metadata": {},
   "outputs": [
    {
     "data": {
      "text/plain": [
       "<Axes: ylabel='issue'>"
      ]
     },
     "execution_count": 38,
     "metadata": {},
     "output_type": "execute_result"
    },
    {
     "data": {
      "image/png": "[encoded data removed]",
      "text/plain": [
       "<Figure size 640x480 with 1 Axes>"
      ]
     },
     "metadata": {},
     "output_type": "display_data"
    }
   ],
   "source": [
    "# YOUR CODE BELOW - Visualise number of events from issue event group\n",
    "# Boxplot and violin plot side by side, different graph\n",
    "sns.violinplot(y=\"issue\", data=final_df)\n",
    "sns.stripplot(\n",
    "    y=\"issue\",\n",
    "    data=final_df[(final_df[\"type\"] == \"Bot\")],\n",
    "    color=\"red\",\n",
    ")\n",
    "\n",
    "# This does not seem to be a normal distribution."
   ]
  },
  {
   "cell_type": "code",
   "execution_count": 39,
   "id": "a7ec1644-8c4d-4bd8-b504-3196ddab982e",
   "metadata": {},
   "outputs": [
    {
     "data": {
      "text/plain": [
       "<Axes: ylabel='commit'>"
      ]
     },
     "execution_count": 39,
     "metadata": {},
     "output_type": "execute_result"
    },
    {
     "data": {
      "image/png": "[encoded data removed]",
      "text/plain": [
       "<Figure size 640x480 with 1 Axes>"
      ]
     },
     "metadata": {},
     "output_type": "display_data"
    }
   ],
   "source": [
    "# YOUR CODE BELOW - Visualise number of events from commit event group\n",
    "sns.violinplot(y=\"commit\", data=final_df)\n",
    "sns.stripplot(\n",
    "    y=\"commit\",\n",
    "    data=final_df[(final_df[\"type\"] == \"Bot\")],\n",
    "    color=\"red\",\n",
    ")\n",
    "\n",
    "# This seem to be a normal distribution with outliers which are bots that are more actuve in term of commits."
   ]
  },
  {
   "cell_type": "code",
   "execution_count": 40,
   "id": "d1c2536a-0f6c-4f2e-a8a5-b07e8abf5217",
   "metadata": {},
   "outputs": [
    {
     "data": {
      "text/plain": [
       "<Axes: ylabel='repo'>"
      ]
     },
     "execution_count": 40,
     "metadata": {},
     "output_type": "execute_result"
    },
    {
     "data": {
      "image/png": "[encoded data removed]",
      "text/plain": [
       "<Figure size 640x480 with 1 Axes>"
      ]
     },
     "metadata": {},
     "output_type": "display_data"
    }
   ],
   "source": [
    "# YOUR CODE BELOW - Visualise number of events from repo event group\n",
    "sns.violinplot(y=\"repo\", data=final_df)\n",
    "sns.stripplot(\n",
    "    y=\"repo\",\n",
    "    data=final_df[(final_df[\"type\"] == \"Bot\")],\n",
    "    color=\"red\",\n",
    ")\n",
    "\n",
    "# This clearly seems to be a normal distribution with the bots in the same range as the humans."
   ]
  },
  {
   "cell_type": "markdown",
   "id": "a663a24f-ebbd-4707-a8e2-c4a72a9451a7",
   "metadata": {},
   "source": [
    "### Question 4.1"
   ]
  },
  {
   "cell_type": "markdown",
   "id": "ea2541bc-5f3a-4ce3-bfb1-21e16104b4c5",
   "metadata": {},
   "source": [
    "#### Statistical identify whether number of events in each event group is normally distributed or not.\n",
    "#### Null hypothesis - $H_0$: Sample comes from the data that has normal distribution.\n",
    "#### Use Shapiro-Wilk test for this purpose. Use the p-value with a threshold of 0.05 to determine whether $H_0$ can be rejected with statistical significance or not. \n",
    "\n",
    "#### Use shapiro from scipy.stats to perform this test (https://docs.scipy.org/doc/scipy/reference/generated/scipy.stats.shapiro.html)"
   ]
  },
  {
   "cell_type": "code",
   "execution_count": 41,
   "id": "d4273e9c-f29f-4b46-ab75-3ceb16a2aae6",
   "metadata": {},
   "outputs": [
    {
     "name": "stdout",
     "output_type": "stream",
     "text": [
      "PR: p-value = 0.0948813259601593 - Fail to reject\n",
      "Issue: p-value = 3.616389585658908e-05 - Reject\n",
      "Commit: p-value = 0.0004282246809452772 - Reject\n",
      "Repo: p-value = 0.016761621460318565 - Reject\n"
     ]
    }
   ],
   "source": [
    "# copy the final_df\n",
    "final_df_copy = final_df.copy()\n",
    "final_df_copy.fillna(0, inplace=True)\n",
    "\n",
    "is_rejected = {}\n",
    "\n",
    "# YOUR CODE BELOW\n",
    "# Test if the distributions are normal\n",
    "# PR\n",
    "stat, p = shapiro(final_df_copy['PR'])\n",
    "if p < 0.05:\n",
    "    print(f\"PR: p-value = {p} - Reject\")\n",
    "    is_rejected['PR'] = True\n",
    "else:\n",
    "    is_rejected['PR'] = False\n",
    "    print(f\"PR: p-value = {p} - Fail to reject\")\n",
    "\n",
    "\n",
    "# Issue\n",
    "stat, p = shapiro(final_df_copy['issue'])\n",
    "if p < 0.05:\n",
    "    is_rejected['issue'] = True\n",
    "    print(f\"Issue: p-value = {p} - Reject\")\n",
    "else:\n",
    "    is_rejected['issue'] = False\n",
    "    print(f\"Issue: p-value = {p} - Fail to reject\")    \n",
    "\n",
    "# Commit\n",
    "stat, p = shapiro(final_df_copy['commit'])\n",
    "if p < 0.05:\n",
    "    is_rejected['commit'] = True\n",
    "    print(f\"Commit: p-value = {p} - Reject\")\n",
    "else:\n",
    "    is_rejected['commit'] = False\n",
    "    print(f\"Commit: p-value = {p} - Fail to reject\")\n",
    "\n",
    "# Repo\n",
    "stat, p = shapiro(final_df_copy['repo'])\n",
    "if p < 0.05:\n",
    "    is_rejected['repo'] = True\n",
    "    print(f\"Repo: p-value = {p} - Reject\")\n",
    "else:\n",
    "    is_rejected['repo'] = False\n",
    "    print(f\"Repo: p-value = {p} - Fail to reject\")\n"
   ]
  },
  {
   "cell_type": "markdown",
   "id": "e7ed78ce-6901-4ddb-a219-d5a8c4e26886",
   "metadata": {},
   "source": [
    "### Question 4.2\n",
    "#### Determine if there is any statistical diﬀerence in number of events between the identified event groups. Perform this test on all pairs of event groups. \n",
    "#### Null hypothesis - $H_0$: Any two event group come from the same population.\n",
    "#### If $H_0$ is rejected in Shapiro-Wilk test (at least for one of the two event groups considered for test), use the Mann-Whitney U statistical test for this purpose. If $H_0$ is not rejected in Shapiro-Wilk test, use the independent t-test for this purpose.  \n",
    "#### In any case, use the p-value with a threshold of 0.01 to determine whether $H_0$ can be rejected with statistical significance. \n",
    "\n",
    "#### Use mannwhitneyu from scipy.stats to perform Mann-Whitney U test (https://docs.scipy.org/doc/scipy/reference/generated/scipy.stats.mannwhitneyu.html) \n",
    "#### or \n",
    "#### ttest_ind from scipy.stats to perform independent t-test https://docs.scipy.org/doc/scipy/reference/generated/scipy.stats.ttest_ind.html."
   ]
  },
  {
   "cell_type": "markdown",
   "id": "3d3fe255-f6a8-4c49-92aa-1859c98d51c1",
   "metadata": {},
   "source": [
    "#### More information:\n",
    "\n",
    "You can pass the following arguments to mannwhitneyu from scipy.stats - (method='exact', nan_policy='omit'). For ttest_ind you can use - (nan_policy='omit')"
   ]
  },
  {
   "cell_type": "code",
   "execution_count": 42,
   "id": "7e7c952f-15a8-4634-b786-90ff1e8f20da",
   "metadata": {},
   "outputs": [
    {
     "name": "stdout",
     "output_type": "stream",
     "text": [
      "=== PR and issue ===\n",
      "Mann-Whitney U test => p-value = 0.0038 - Reject\n",
      "\n",
      "\n",
      "=== PR and commit ===\n",
      "Mann-Whitney U test => p-value = 0.0952 - Fail to reject\n",
      "\n",
      "\n",
      "=== PR and repo ===\n",
      "Mann-Whitney U test => p-value = 0.7125 - Fail to reject\n",
      "\n",
      "\n",
      "=== issue and commit ===\n",
      "Mann-Whitney U test => p-value = 0.0000 - Reject\n",
      "\n",
      "\n",
      "=== issue and repo ===\n",
      "Mann-Whitney U test => p-value = 0.0006 - Reject\n",
      "\n",
      "\n",
      "=== commit and repo ===\n",
      "Mann-Whitney U test => p-value = 0.1743 - Fail to reject\n",
      "\n",
      "\n"
     ]
    }
   ],
   "source": [
    "# YOUR CODE BELOW\n",
    "# For every pair of event groups, test if the distributions are different\n",
    "for event1, event2 in itertools.combinations(['PR', 'issue', 'commit', 'repo'], r=2):\n",
    "    if is_rejected[event1] or is_rejected[event2]:\n",
    "        print(f\"=== {event1} and {event2} ===\")\n",
    "        # Perform Mann-Whitney U test\n",
    "        stat, p = mannwhitneyu(final_df_copy[event1], final_df_copy[event2], method='exact', nan_policy='omit')\n",
    "        if p < 0.01:\n",
    "            print(f\"Mann-Whitney U test => p-value = {p:.4f} - Reject\")\n",
    "        else:\n",
    "            print(f\"Mann-Whitney U test => p-value = {p:.4f} - Fail to reject\")\n",
    "    else:\n",
    "        # Perform t-test\n",
    "        print(f\"=== {event1} and {event2} ===\")\n",
    "        stat, p = ttest_ind(final_df_copy[event1], final_df_copy[event2], nan_policy='omit')\n",
    "        if p < 0.01:\n",
    "            print(f\"t-test => p-value = {p:.4f} - Reject\")\n",
    "        else:\n",
    "            print(f\"t-test => p-value = {p:.4f} - Fail\")\n",
    "    print(\"\\n\")"
   ]
  },
  {
   "cell_type": "markdown",
   "id": "f443dbbc-a8f1-4281-aadb-8ec8f9c792da",
   "metadata": {},
   "source": [
    "### Question 5\n",
    "#### Each time you reject the null hypothesis $H_0$, quantify the effect size of the diﬀerence between the groups using cliﬀ’s delta ($\\delta$). \n",
    "#### To calculate cliﬀ’s delta, you can pass the list of values to cliﬀ delta.py file given in the repository. E.g., cliffsDelta.cliffsDelta(list of values). This will return the effect size and its interpretation (negligible, small, medium, large)."
   ]
  },
  {
   "cell_type": "code",
   "execution_count": 43,
   "id": "c19a6054-933f-425b-971e-d54a429c901d",
   "metadata": {},
   "outputs": [
    {
     "name": "stdout",
     "output_type": "stream",
     "text": [
      "Cliff's Delta for PR and Issue: (0.373125, 'medium')\n",
      "Cliff's Delta for Issue and Commit: (-0.530625, 'large')\n",
      "Cliff's Delta for Issue and Repo: (-0.439375, 'medium')\n"
     ]
    }
   ],
   "source": [
    "# YOU CODE BELOW\n",
    "\n",
    "cliff_delta_pr_issue = cd.cliffsDelta(final_df_copy['PR'], final_df_copy['issue'])\n",
    "print(f\"Cliff's Delta for PR and Issue: {cliff_delta_pr_issue}\")\n",
    "\n",
    "cliff_delta_issue_commit = cd.cliffsDelta(final_df_copy['issue'], final_df_copy['commit'])\n",
    "print(f\"Cliff's Delta for Issue and Commit: {cliff_delta_issue_commit}\")\n",
    "\n",
    "cliff_delta_issue_repo = cd.cliffsDelta(final_df_copy['issue'], final_df_copy['repo'])\n",
    "print(f\"Cliff's Delta for Issue and Repo: {cliff_delta_issue_repo}\")"
   ]
  },
  {
   "cell_type": "markdown",
   "id": "3cd1e637-c222-4497-b8b6-a61252349bdc",
   "metadata": {},
   "source": [
    "### Question 6"
   ]
  },
  {
   "cell_type": "markdown",
   "id": "d0056ddd-2f2e-49a8-9bda-c4117be7fda7",
   "metadata": {},
   "source": [
    "#### Create violinplots to visualise the distributions for the following metrics and answer the questions that follow it. You should highlight the data points corresponding to bots using a stripplot in seaborn.\n",
    "\n",
    "#### Hint:\n",
    "\n",
    "1. Merge you DataFrame of event with the type of contributor that you identified in section 3.\n",
    "2. Write a function that you will use for all the seaborn plots. This way you can reduce duplication and update it easily."
   ]
  },
  {
   "cell_type": "code",
   "execution_count": 50,
   "id": "a8d9dc21",
   "metadata": {},
   "outputs": [
    {
     "data": {
      "text/html": [
       "<div>\n",
       "<style scoped>\n",
       "    .dataframe tbody tr th:only-of-type {\n",
       "        vertical-align: middle;\n",
       "    }\n",
       "\n",
       "    .dataframe tbody tr th {\n",
       "        vertical-align: top;\n",
       "    }\n",
       "\n",
       "    .dataframe thead th {\n",
       "        text-align: right;\n",
       "    }\n",
       "</style>\n",
       "<table border=\"1\" class=\"dataframe\">\n",
       "  <thead>\n",
       "    <tr style=\"text-align: right;\">\n",
       "      <th></th>\n",
       "      <th>event_id</th>\n",
       "      <th>contributor</th>\n",
       "      <th>repository</th>\n",
       "      <th>event_type</th>\n",
       "      <th>created_at</th>\n",
       "      <th>event_group</th>\n",
       "    </tr>\n",
       "  </thead>\n",
       "  <tbody>\n",
       "    <tr>\n",
       "      <th>0</th>\n",
       "      <td>36619627668</td>\n",
       "      <td>TanvirBhuiyan19</td>\n",
       "      <td>CodeWaveWithAsante/FLAVORVERSE</td>\n",
       "      <td>WatchEvent</td>\n",
       "      <td>2024-03-17T11:25:42Z</td>\n",
       "      <td>repo</td>\n",
       "    </tr>\n",
       "    <tr>\n",
       "      <th>1</th>\n",
       "      <td>36619627528</td>\n",
       "      <td>TanvirBhuiyan19</td>\n",
       "      <td>NanmiCoder/MediaCrawler</td>\n",
       "      <td>WatchEvent</td>\n",
       "      <td>2024-03-17T11:25:41Z</td>\n",
       "      <td>repo</td>\n",
       "    </tr>\n",
       "    <tr>\n",
       "      <th>2</th>\n",
       "      <td>36619627385</td>\n",
       "      <td>TanvirBhuiyan19</td>\n",
       "      <td>tiangolo/full-stack-fastapi-template</td>\n",
       "      <td>WatchEvent</td>\n",
       "      <td>2024-03-17T11:25:40Z</td>\n",
       "      <td>repo</td>\n",
       "    </tr>\n",
       "    <tr>\n",
       "      <th>3</th>\n",
       "      <td>36619626389</td>\n",
       "      <td>TanvirBhuiyan19</td>\n",
       "      <td>Talha836902/amazon-clone-main</td>\n",
       "      <td>WatchEvent</td>\n",
       "      <td>2024-03-17T11:25:32Z</td>\n",
       "      <td>repo</td>\n",
       "    </tr>\n",
       "    <tr>\n",
       "      <th>4</th>\n",
       "      <td>36616459909</td>\n",
       "      <td>TanvirBhuiyan19</td>\n",
       "      <td>enorsia/assets</td>\n",
       "      <td>PushEvent</td>\n",
       "      <td>2024-03-17T04:24:44Z</td>\n",
       "      <td>commit</td>\n",
       "    </tr>\n",
       "    <tr>\n",
       "      <th>5</th>\n",
       "      <td>36409764770</td>\n",
       "      <td>TanvirBhuiyan19</td>\n",
       "      <td>enorsia/assets</td>\n",
       "      <td>PushEvent</td>\n",
       "      <td>2024-03-10T13:23:46Z</td>\n",
       "      <td>commit</td>\n",
       "    </tr>\n",
       "    <tr>\n",
       "      <th>6</th>\n",
       "      <td>36407651586</td>\n",
       "      <td>TanvirBhuiyan19</td>\n",
       "      <td>enorsia/assets</td>\n",
       "      <td>PushEvent</td>\n",
       "      <td>2024-03-10T10:00:28Z</td>\n",
       "      <td>commit</td>\n",
       "    </tr>\n",
       "    <tr>\n",
       "      <th>7</th>\n",
       "      <td>36405830425</td>\n",
       "      <td>TanvirBhuiyan19</td>\n",
       "      <td>enorsia/assets</td>\n",
       "      <td>CreateEvent</td>\n",
       "      <td>2024-03-10T06:32:08Z</td>\n",
       "      <td>repo</td>\n",
       "    </tr>\n",
       "    <tr>\n",
       "      <th>8</th>\n",
       "      <td>36084985024</td>\n",
       "      <td>TanvirBhuiyan19</td>\n",
       "      <td>instill-ai/instill-core</td>\n",
       "      <td>WatchEvent</td>\n",
       "      <td>2024-02-28T11:35:47Z</td>\n",
       "      <td>repo</td>\n",
       "    </tr>\n",
       "    <tr>\n",
       "      <th>9</th>\n",
       "      <td>36084984640</td>\n",
       "      <td>TanvirBhuiyan19</td>\n",
       "      <td>Udemig/9-Hafta-ici-Crud</td>\n",
       "      <td>WatchEvent</td>\n",
       "      <td>2024-02-28T11:35:46Z</td>\n",
       "      <td>repo</td>\n",
       "    </tr>\n",
       "  </tbody>\n",
       "</table>\n",
       "</div>"
      ],
      "text/plain": [
       "      event_id      contributor                            repository  \\\n",
       "0  36619627668  TanvirBhuiyan19        CodeWaveWithAsante/FLAVORVERSE   \n",
       "1  36619627528  TanvirBhuiyan19               NanmiCoder/MediaCrawler   \n",
       "2  36619627385  TanvirBhuiyan19  tiangolo/full-stack-fastapi-template   \n",
       "3  36619626389  TanvirBhuiyan19         Talha836902/amazon-clone-main   \n",
       "4  36616459909  TanvirBhuiyan19                        enorsia/assets   \n",
       "5  36409764770  TanvirBhuiyan19                        enorsia/assets   \n",
       "6  36407651586  TanvirBhuiyan19                        enorsia/assets   \n",
       "7  36405830425  TanvirBhuiyan19                        enorsia/assets   \n",
       "8  36084985024  TanvirBhuiyan19               instill-ai/instill-core   \n",
       "9  36084984640  TanvirBhuiyan19               Udemig/9-Hafta-ici-Crud   \n",
       "\n",
       "    event_type            created_at event_group  \n",
       "0   WatchEvent  2024-03-17T11:25:42Z        repo  \n",
       "1   WatchEvent  2024-03-17T11:25:41Z        repo  \n",
       "2   WatchEvent  2024-03-17T11:25:40Z        repo  \n",
       "3   WatchEvent  2024-03-17T11:25:32Z        repo  \n",
       "4    PushEvent  2024-03-17T04:24:44Z      commit  \n",
       "5    PushEvent  2024-03-10T13:23:46Z      commit  \n",
       "6    PushEvent  2024-03-10T10:00:28Z      commit  \n",
       "7  CreateEvent  2024-03-10T06:32:08Z        repo  \n",
       "8   WatchEvent  2024-02-28T11:35:47Z        repo  \n",
       "9   WatchEvent  2024-02-28T11:35:46Z        repo  "
      ]
     },
     "metadata": {},
     "output_type": "display_data"
    },
    {
     "data": {
      "text/html": [
       "<div>\n",
       "<style scoped>\n",
       "    .dataframe tbody tr th:only-of-type {\n",
       "        vertical-align: middle;\n",
       "    }\n",
       "\n",
       "    .dataframe tbody tr th {\n",
       "        vertical-align: top;\n",
       "    }\n",
       "\n",
       "    .dataframe thead th {\n",
       "        text-align: right;\n",
       "    }\n",
       "</style>\n",
       "<table border=\"1\" class=\"dataframe\">\n",
       "  <thead>\n",
       "    <tr style=\"text-align: right;\">\n",
       "      <th></th>\n",
       "      <th>contributor</th>\n",
       "      <th>app</th>\n",
       "    </tr>\n",
       "  </thead>\n",
       "  <tbody>\n",
       "    <tr>\n",
       "      <th>0</th>\n",
       "      <td>TanvirBhuiyan19</td>\n",
       "      <td>False</td>\n",
       "    </tr>\n",
       "    <tr>\n",
       "      <th>1</th>\n",
       "      <td>AkihiroSuda</td>\n",
       "      <td>False</td>\n",
       "    </tr>\n",
       "    <tr>\n",
       "      <th>2</th>\n",
       "      <td>xwjdsh</td>\n",
       "      <td>False</td>\n",
       "    </tr>\n",
       "    <tr>\n",
       "      <th>3</th>\n",
       "      <td>spaam</td>\n",
       "      <td>False</td>\n",
       "    </tr>\n",
       "    <tr>\n",
       "      <th>4</th>\n",
       "      <td>messense</td>\n",
       "      <td>False</td>\n",
       "    </tr>\n",
       "    <tr>\n",
       "      <th>5</th>\n",
       "      <td>woodruffw</td>\n",
       "      <td>False</td>\n",
       "    </tr>\n",
       "    <tr>\n",
       "      <th>6</th>\n",
       "      <td>dev-errant</td>\n",
       "      <td>False</td>\n",
       "    </tr>\n",
       "    <tr>\n",
       "      <th>7</th>\n",
       "      <td>ryenus</td>\n",
       "      <td>False</td>\n",
       "    </tr>\n",
       "    <tr>\n",
       "      <th>8</th>\n",
       "      <td>coffeegoddd</td>\n",
       "      <td>False</td>\n",
       "    </tr>\n",
       "    <tr>\n",
       "      <th>9</th>\n",
       "      <td>scpeters</td>\n",
       "      <td>False</td>\n",
       "    </tr>\n",
       "  </tbody>\n",
       "</table>\n",
       "</div>"
      ],
      "text/plain": [
       "       contributor    app\n",
       "0  TanvirBhuiyan19  False\n",
       "1      AkihiroSuda  False\n",
       "2           xwjdsh  False\n",
       "3            spaam  False\n",
       "4         messense  False\n",
       "5        woodruffw  False\n",
       "6       dev-errant  False\n",
       "7           ryenus  False\n",
       "8      coffeegoddd  False\n",
       "9         scpeters  False"
      ]
     },
     "metadata": {},
     "output_type": "display_data"
    },
    {
     "data": {
      "text/html": [
       "<div>\n",
       "<style scoped>\n",
       "    .dataframe tbody tr th:only-of-type {\n",
       "        vertical-align: middle;\n",
       "    }\n",
       "\n",
       "    .dataframe tbody tr th {\n",
       "        vertical-align: top;\n",
       "    }\n",
       "\n",
       "    .dataframe thead th {\n",
       "        text-align: right;\n",
       "    }\n",
       "</style>\n",
       "<table border=\"1\" class=\"dataframe\">\n",
       "  <thead>\n",
       "    <tr style=\"text-align: right;\">\n",
       "      <th></th>\n",
       "      <th>contributor</th>\n",
       "      <th>type</th>\n",
       "      <th>PR</th>\n",
       "      <th>commit</th>\n",
       "      <th>issue</th>\n",
       "      <th>repo</th>\n",
       "    </tr>\n",
       "  </thead>\n",
       "  <tbody>\n",
       "    <tr>\n",
       "      <th>0</th>\n",
       "      <td>TanvirBhuiyan19</td>\n",
       "      <td>Human</td>\n",
       "      <td>NaN</td>\n",
       "      <td>3.0</td>\n",
       "      <td>NaN</td>\n",
       "      <td>84.0</td>\n",
       "    </tr>\n",
       "    <tr>\n",
       "      <th>1</th>\n",
       "      <td>AkihiroSuda</td>\n",
       "      <td>Human</td>\n",
       "      <td>100.0</td>\n",
       "      <td>44.0</td>\n",
       "      <td>39.0</td>\n",
       "      <td>9.0</td>\n",
       "    </tr>\n",
       "    <tr>\n",
       "      <th>2</th>\n",
       "      <td>xwjdsh</td>\n",
       "      <td>Human</td>\n",
       "      <td>19.0</td>\n",
       "      <td>87.0</td>\n",
       "      <td>12.0</td>\n",
       "      <td>74.0</td>\n",
       "    </tr>\n",
       "    <tr>\n",
       "      <th>3</th>\n",
       "      <td>spaam</td>\n",
       "      <td>Human</td>\n",
       "      <td>NaN</td>\n",
       "      <td>NaN</td>\n",
       "      <td>18.0</td>\n",
       "      <td>NaN</td>\n",
       "    </tr>\n",
       "    <tr>\n",
       "      <th>4</th>\n",
       "      <td>messense</td>\n",
       "      <td>Human</td>\n",
       "      <td>51.0</td>\n",
       "      <td>89.0</td>\n",
       "      <td>80.0</td>\n",
       "      <td>41.0</td>\n",
       "    </tr>\n",
       "    <tr>\n",
       "      <th>5</th>\n",
       "      <td>woodruffw</td>\n",
       "      <td>Human</td>\n",
       "      <td>80.0</td>\n",
       "      <td>73.0</td>\n",
       "      <td>41.0</td>\n",
       "      <td>44.0</td>\n",
       "    </tr>\n",
       "    <tr>\n",
       "      <th>6</th>\n",
       "      <td>dev-errant</td>\n",
       "      <td>Human</td>\n",
       "      <td>1.0</td>\n",
       "      <td>14.0</td>\n",
       "      <td>NaN</td>\n",
       "      <td>6.0</td>\n",
       "    </tr>\n",
       "    <tr>\n",
       "      <th>7</th>\n",
       "      <td>ryenus</td>\n",
       "      <td>Human</td>\n",
       "      <td>3.0</td>\n",
       "      <td>32.0</td>\n",
       "      <td>7.0</td>\n",
       "      <td>15.0</td>\n",
       "    </tr>\n",
       "    <tr>\n",
       "      <th>8</th>\n",
       "      <td>coffeegoddd</td>\n",
       "      <td>Human</td>\n",
       "      <td>75.0</td>\n",
       "      <td>44.0</td>\n",
       "      <td>67.0</td>\n",
       "      <td>52.0</td>\n",
       "    </tr>\n",
       "    <tr>\n",
       "      <th>9</th>\n",
       "      <td>scpeters</td>\n",
       "      <td>Human</td>\n",
       "      <td>89.0</td>\n",
       "      <td>48.0</td>\n",
       "      <td>60.0</td>\n",
       "      <td>40.0</td>\n",
       "    </tr>\n",
       "  </tbody>\n",
       "</table>\n",
       "</div>"
      ],
      "text/plain": [
       "       contributor   type     PR  commit  issue  repo\n",
       "0  TanvirBhuiyan19  Human    NaN     3.0    NaN  84.0\n",
       "1      AkihiroSuda  Human  100.0    44.0   39.0   9.0\n",
       "2           xwjdsh  Human   19.0    87.0   12.0  74.0\n",
       "3            spaam  Human    NaN     NaN   18.0   NaN\n",
       "4         messense  Human   51.0    89.0   80.0  41.0\n",
       "5        woodruffw  Human   80.0    73.0   41.0  44.0\n",
       "6       dev-errant  Human    1.0    14.0    NaN   6.0\n",
       "7           ryenus  Human    3.0    32.0    7.0  15.0\n",
       "8      coffeegoddd  Human   75.0    44.0   67.0  52.0\n",
       "9         scpeters  Human   89.0    48.0   60.0  40.0"
      ]
     },
     "metadata": {},
     "output_type": "display_data"
    }
   ],
   "source": [
    "# print df\n",
    "event_df.rename(columns={\"type\": \"event_type\"}, inplace=True)\n",
    "display(event_df.head(n=10))\n",
    "\n",
    "display(app_df.head(n=10))\n",
    "\n",
    "display(final_df.head(n=10))"
   ]
  },
  {
   "cell_type": "code",
   "execution_count": 105,
   "id": "c7d168b2-50d9-41a8-84ca-3f40fddaaf39",
   "metadata": {},
   "outputs": [
    {
     "data": {
      "text/html": [
       "<div>\n",
       "<style scoped>\n",
       "    .dataframe tbody tr th:only-of-type {\n",
       "        vertical-align: middle;\n",
       "    }\n",
       "\n",
       "    .dataframe tbody tr th {\n",
       "        vertical-align: top;\n",
       "    }\n",
       "\n",
       "    .dataframe thead th {\n",
       "        text-align: right;\n",
       "    }\n",
       "</style>\n",
       "<table border=\"1\" class=\"dataframe\">\n",
       "  <thead>\n",
       "    <tr style=\"text-align: right;\">\n",
       "      <th></th>\n",
       "      <th>event_id</th>\n",
       "      <th>contributor</th>\n",
       "      <th>repository</th>\n",
       "      <th>event_type</th>\n",
       "      <th>created_at</th>\n",
       "      <th>event_group</th>\n",
       "      <th>type</th>\n",
       "      <th>PR</th>\n",
       "      <th>commit</th>\n",
       "      <th>issue</th>\n",
       "      <th>repo</th>\n",
       "    </tr>\n",
       "  </thead>\n",
       "  <tbody>\n",
       "    <tr>\n",
       "      <th>0</th>\n",
       "      <td>36619627668</td>\n",
       "      <td>TanvirBhuiyan19</td>\n",
       "      <td>CodeWaveWithAsante/FLAVORVERSE</td>\n",
       "      <td>WatchEvent</td>\n",
       "      <td>2024-03-17T11:25:42Z</td>\n",
       "      <td>repo</td>\n",
       "      <td>Human</td>\n",
       "      <td>NaN</td>\n",
       "      <td>3.0</td>\n",
       "      <td>NaN</td>\n",
       "      <td>84.0</td>\n",
       "    </tr>\n",
       "    <tr>\n",
       "      <th>1</th>\n",
       "      <td>36619627528</td>\n",
       "      <td>TanvirBhuiyan19</td>\n",
       "      <td>NanmiCoder/MediaCrawler</td>\n",
       "      <td>WatchEvent</td>\n",
       "      <td>2024-03-17T11:25:41Z</td>\n",
       "      <td>repo</td>\n",
       "      <td>Human</td>\n",
       "      <td>NaN</td>\n",
       "      <td>3.0</td>\n",
       "      <td>NaN</td>\n",
       "      <td>84.0</td>\n",
       "    </tr>\n",
       "    <tr>\n",
       "      <th>2</th>\n",
       "      <td>36619627385</td>\n",
       "      <td>TanvirBhuiyan19</td>\n",
       "      <td>tiangolo/full-stack-fastapi-template</td>\n",
       "      <td>WatchEvent</td>\n",
       "      <td>2024-03-17T11:25:40Z</td>\n",
       "      <td>repo</td>\n",
       "      <td>Human</td>\n",
       "      <td>NaN</td>\n",
       "      <td>3.0</td>\n",
       "      <td>NaN</td>\n",
       "      <td>84.0</td>\n",
       "    </tr>\n",
       "    <tr>\n",
       "      <th>3</th>\n",
       "      <td>36619626389</td>\n",
       "      <td>TanvirBhuiyan19</td>\n",
       "      <td>Talha836902/amazon-clone-main</td>\n",
       "      <td>WatchEvent</td>\n",
       "      <td>2024-03-17T11:25:32Z</td>\n",
       "      <td>repo</td>\n",
       "      <td>Human</td>\n",
       "      <td>NaN</td>\n",
       "      <td>3.0</td>\n",
       "      <td>NaN</td>\n",
       "      <td>84.0</td>\n",
       "    </tr>\n",
       "    <tr>\n",
       "      <th>4</th>\n",
       "      <td>36616459909</td>\n",
       "      <td>TanvirBhuiyan19</td>\n",
       "      <td>enorsia/assets</td>\n",
       "      <td>PushEvent</td>\n",
       "      <td>2024-03-17T04:24:44Z</td>\n",
       "      <td>commit</td>\n",
       "      <td>Human</td>\n",
       "      <td>NaN</td>\n",
       "      <td>3.0</td>\n",
       "      <td>NaN</td>\n",
       "      <td>84.0</td>\n",
       "    </tr>\n",
       "    <tr>\n",
       "      <th>5</th>\n",
       "      <td>36409764770</td>\n",
       "      <td>TanvirBhuiyan19</td>\n",
       "      <td>enorsia/assets</td>\n",
       "      <td>PushEvent</td>\n",
       "      <td>2024-03-10T13:23:46Z</td>\n",
       "      <td>commit</td>\n",
       "      <td>Human</td>\n",
       "      <td>NaN</td>\n",
       "      <td>3.0</td>\n",
       "      <td>NaN</td>\n",
       "      <td>84.0</td>\n",
       "    </tr>\n",
       "    <tr>\n",
       "      <th>6</th>\n",
       "      <td>36407651586</td>\n",
       "      <td>TanvirBhuiyan19</td>\n",
       "      <td>enorsia/assets</td>\n",
       "      <td>PushEvent</td>\n",
       "      <td>2024-03-10T10:00:28Z</td>\n",
       "      <td>commit</td>\n",
       "      <td>Human</td>\n",
       "      <td>NaN</td>\n",
       "      <td>3.0</td>\n",
       "      <td>NaN</td>\n",
       "      <td>84.0</td>\n",
       "    </tr>\n",
       "    <tr>\n",
       "      <th>7</th>\n",
       "      <td>36405830425</td>\n",
       "      <td>TanvirBhuiyan19</td>\n",
       "      <td>enorsia/assets</td>\n",
       "      <td>CreateEvent</td>\n",
       "      <td>2024-03-10T06:32:08Z</td>\n",
       "      <td>repo</td>\n",
       "      <td>Human</td>\n",
       "      <td>NaN</td>\n",
       "      <td>3.0</td>\n",
       "      <td>NaN</td>\n",
       "      <td>84.0</td>\n",
       "    </tr>\n",
       "    <tr>\n",
       "      <th>8</th>\n",
       "      <td>36084985024</td>\n",
       "      <td>TanvirBhuiyan19</td>\n",
       "      <td>instill-ai/instill-core</td>\n",
       "      <td>WatchEvent</td>\n",
       "      <td>2024-02-28T11:35:47Z</td>\n",
       "      <td>repo</td>\n",
       "      <td>Human</td>\n",
       "      <td>NaN</td>\n",
       "      <td>3.0</td>\n",
       "      <td>NaN</td>\n",
       "      <td>84.0</td>\n",
       "    </tr>\n",
       "    <tr>\n",
       "      <th>9</th>\n",
       "      <td>36084984640</td>\n",
       "      <td>TanvirBhuiyan19</td>\n",
       "      <td>Udemig/9-Hafta-ici-Crud</td>\n",
       "      <td>WatchEvent</td>\n",
       "      <td>2024-02-28T11:35:46Z</td>\n",
       "      <td>repo</td>\n",
       "      <td>Human</td>\n",
       "      <td>NaN</td>\n",
       "      <td>3.0</td>\n",
       "      <td>NaN</td>\n",
       "      <td>84.0</td>\n",
       "    </tr>\n",
       "  </tbody>\n",
       "</table>\n",
       "</div>"
      ],
      "text/plain": [
       "      event_id      contributor                            repository  \\\n",
       "0  36619627668  TanvirBhuiyan19        CodeWaveWithAsante/FLAVORVERSE   \n",
       "1  36619627528  TanvirBhuiyan19               NanmiCoder/MediaCrawler   \n",
       "2  36619627385  TanvirBhuiyan19  tiangolo/full-stack-fastapi-template   \n",
       "3  36619626389  TanvirBhuiyan19         Talha836902/amazon-clone-main   \n",
       "4  36616459909  TanvirBhuiyan19                        enorsia/assets   \n",
       "5  36409764770  TanvirBhuiyan19                        enorsia/assets   \n",
       "6  36407651586  TanvirBhuiyan19                        enorsia/assets   \n",
       "7  36405830425  TanvirBhuiyan19                        enorsia/assets   \n",
       "8  36084985024  TanvirBhuiyan19               instill-ai/instill-core   \n",
       "9  36084984640  TanvirBhuiyan19               Udemig/9-Hafta-ici-Crud   \n",
       "\n",
       "    event_type            created_at event_group   type  PR  commit  issue  \\\n",
       "0   WatchEvent  2024-03-17T11:25:42Z        repo  Human NaN     3.0    NaN   \n",
       "1   WatchEvent  2024-03-17T11:25:41Z        repo  Human NaN     3.0    NaN   \n",
       "2   WatchEvent  2024-03-17T11:25:40Z        repo  Human NaN     3.0    NaN   \n",
       "3   WatchEvent  2024-03-17T11:25:32Z        repo  Human NaN     3.0    NaN   \n",
       "4    PushEvent  2024-03-17T04:24:44Z      commit  Human NaN     3.0    NaN   \n",
       "5    PushEvent  2024-03-10T13:23:46Z      commit  Human NaN     3.0    NaN   \n",
       "6    PushEvent  2024-03-10T10:00:28Z      commit  Human NaN     3.0    NaN   \n",
       "7  CreateEvent  2024-03-10T06:32:08Z        repo  Human NaN     3.0    NaN   \n",
       "8   WatchEvent  2024-02-28T11:35:47Z        repo  Human NaN     3.0    NaN   \n",
       "9   WatchEvent  2024-02-28T11:35:46Z        repo  Human NaN     3.0    NaN   \n",
       "\n",
       "   repo  \n",
       "0  84.0  \n",
       "1  84.0  \n",
       "2  84.0  \n",
       "3  84.0  \n",
       "4  84.0  \n",
       "5  84.0  \n",
       "6  84.0  \n",
       "7  84.0  \n",
       "8  84.0  \n",
       "9  84.0  "
      ]
     },
     "metadata": {},
     "output_type": "display_data"
    },
    {
     "data": {
      "text/html": [
       "<div>\n",
       "<style scoped>\n",
       "    .dataframe tbody tr th:only-of-type {\n",
       "        vertical-align: middle;\n",
       "    }\n",
       "\n",
       "    .dataframe tbody tr th {\n",
       "        vertical-align: top;\n",
       "    }\n",
       "\n",
       "    .dataframe thead th {\n",
       "        text-align: right;\n",
       "    }\n",
       "</style>\n",
       "<table border=\"1\" class=\"dataframe\">\n",
       "  <thead>\n",
       "    <tr style=\"text-align: right;\">\n",
       "      <th></th>\n",
       "      <th>contributor</th>\n",
       "      <th>type</th>\n",
       "      <th>event_type</th>\n",
       "      <th>num_event</th>\n",
       "    </tr>\n",
       "  </thead>\n",
       "  <tbody>\n",
       "    <tr>\n",
       "      <th>0</th>\n",
       "      <td>AkihiroSuda</td>\n",
       "      <td>Human</td>\n",
       "      <td>CreateEvent</td>\n",
       "      <td>9</td>\n",
       "    </tr>\n",
       "    <tr>\n",
       "      <th>1</th>\n",
       "      <td>AkihiroSuda</td>\n",
       "      <td>Human</td>\n",
       "      <td>IssueCommentEvent</td>\n",
       "      <td>31</td>\n",
       "    </tr>\n",
       "    <tr>\n",
       "      <th>2</th>\n",
       "      <td>AkihiroSuda</td>\n",
       "      <td>Human</td>\n",
       "      <td>IssuesEvent</td>\n",
       "      <td>8</td>\n",
       "    </tr>\n",
       "    <tr>\n",
       "      <th>3</th>\n",
       "      <td>AkihiroSuda</td>\n",
       "      <td>Human</td>\n",
       "      <td>PullRequestEvent</td>\n",
       "      <td>33</td>\n",
       "    </tr>\n",
       "    <tr>\n",
       "      <th>4</th>\n",
       "      <td>AkihiroSuda</td>\n",
       "      <td>Human</td>\n",
       "      <td>PullRequestReviewCommentEvent</td>\n",
       "      <td>67</td>\n",
       "    </tr>\n",
       "    <tr>\n",
       "      <th>5</th>\n",
       "      <td>AkihiroSuda</td>\n",
       "      <td>Human</td>\n",
       "      <td>PullRequestReviewEvent</td>\n",
       "      <td>88</td>\n",
       "    </tr>\n",
       "    <tr>\n",
       "      <th>6</th>\n",
       "      <td>AkihiroSuda</td>\n",
       "      <td>Human</td>\n",
       "      <td>PushEvent</td>\n",
       "      <td>44</td>\n",
       "    </tr>\n",
       "    <tr>\n",
       "      <th>7</th>\n",
       "      <td>ArduinoBot</td>\n",
       "      <td>Bot</td>\n",
       "      <td>CreateEvent</td>\n",
       "      <td>8</td>\n",
       "    </tr>\n",
       "    <tr>\n",
       "      <th>8</th>\n",
       "      <td>ArduinoBot</td>\n",
       "      <td>Bot</td>\n",
       "      <td>PullRequestEvent</td>\n",
       "      <td>27</td>\n",
       "    </tr>\n",
       "    <tr>\n",
       "      <th>9</th>\n",
       "      <td>ArduinoBot</td>\n",
       "      <td>Bot</td>\n",
       "      <td>PushEvent</td>\n",
       "      <td>1</td>\n",
       "    </tr>\n",
       "  </tbody>\n",
       "</table>\n",
       "</div>"
      ],
      "text/plain": [
       "   contributor   type                     event_type  num_event\n",
       "0  AkihiroSuda  Human                    CreateEvent          9\n",
       "1  AkihiroSuda  Human              IssueCommentEvent         31\n",
       "2  AkihiroSuda  Human                    IssuesEvent          8\n",
       "3  AkihiroSuda  Human               PullRequestEvent         33\n",
       "4  AkihiroSuda  Human  PullRequestReviewCommentEvent         67\n",
       "5  AkihiroSuda  Human         PullRequestReviewEvent         88\n",
       "6  AkihiroSuda  Human                      PushEvent         44\n",
       "7   ArduinoBot    Bot                    CreateEvent          8\n",
       "8   ArduinoBot    Bot               PullRequestEvent         27\n",
       "9   ArduinoBot    Bot                      PushEvent          1"
      ]
     },
     "metadata": {},
     "output_type": "display_data"
    }
   ],
   "source": [
    "# YOUR CODE BELOW - function for seaborn plot\n",
    "\n",
    "# Merge\n",
    "type_event_df = pd.merge(event_df, final_df, on='contributor')\n",
    "\n",
    "display(type_event_df.head(n=10))\n",
    "# Add a column \"num_event\"\n",
    "type_event_df['num_event'] = 1\n",
    "type_event_df = type_event_df.groupby(['contributor','type', 'event_type']).agg(num_event=('num_event', 'count')).reset_index()\n",
    "\n",
    "display(type_event_df.head(n=10))\n",
    "\n",
    "def plot_violin(df, x=None, y=None):\n",
    "    sns.violinplot(x=x, y=y, data=df)\n",
    "    sns.stripplot(x=x, y=y,  data=df[df.type == \"Bot\"], color='red')\n",
    "    sns.stripplot(x=x, y=y, data=df[df.type == \"App\"], color='green')\n",
    "\n",
    "    # Add legend\n",
    "    red_patch = mpatches.Patch(color='red', label='Bot')\n",
    "    blue_patch = mpatches.Patch(color='green', label='App')\n",
    "    plt.legend(handles=[red_patch, blue_patch])"
   ]
  },
  {
   "cell_type": "markdown",
   "id": "04f0e866-0588-40b4-8834-a5722e55d7f2",
   "metadata": {},
   "source": [
    "#### Total number of events"
   ]
  },
  {
   "cell_type": "code",
   "execution_count": 97,
   "id": "51e9fca8-4f73-428b-b5ef-d7d7f80a4820",
   "metadata": {},
   "outputs": [
    {
     "data": {
      "image/png": "[encoded data removed]",
      "text/plain": [
       "<Figure size 640x480 with 1 Axes>"
      ]
     },
     "metadata": {},
     "output_type": "display_data"
    }
   ],
   "source": [
    "# YOUR CODE BELOW.\n",
    "\n",
    "# Compute the total number of events for each contributor\n",
    "tmp = type_event_df.groupby(['contributor', 'type']).agg(num_event=(\"num_event\", \"sum\")).reset_index()\n",
    "plot_violin(tmp, y='num_event')"
   ]
  },
  {
   "cell_type": "markdown",
   "id": "06b79e67-83b8-4f1a-9436-b462e786e7bd",
   "metadata": {},
   "source": [
    "#### Number of event types"
   ]
  },
  {
   "cell_type": "code",
   "execution_count": 98,
   "id": "1f485dcb-900c-4cbb-bb77-06702156d738",
   "metadata": {},
   "outputs": [
    {
     "data": {
      "image/png": "[encoded data removed]",
      "text/plain": [
       "<Figure size 640x480 with 1 Axes>"
      ]
     },
     "metadata": {},
     "output_type": "display_data"
    }
   ],
   "source": [
    "# YOUR CODE BELOW\n",
    "plot_violin(type_event_df, x='num_event', y='event_type')"
   ]
  },
  {
   "cell_type": "markdown",
   "id": "e12f1d24-58c4-4da2-a258-64b3f0890aba",
   "metadata": {},
   "source": [
    "#### Mean number of events per event type"
   ]
  },
  {
   "cell_type": "code",
   "execution_count": null,
   "id": "881c1690",
   "metadata": {},
   "outputs": [],
   "source": []
  },
  {
   "cell_type": "markdown",
   "id": "27470611-0758-4007-809b-61406d11e168",
   "metadata": {},
   "source": [
    "#### Mean number of events per event group"
   ]
  },
  {
   "cell_type": "code",
   "execution_count": null,
   "id": "62068e1f-24de-481b-a3e2-18ae1f246c00",
   "metadata": {},
   "outputs": [],
   "source": []
  },
  {
   "cell_type": "markdown",
   "id": "19f6a36a-5db2-4476-86da-8d08038846cb",
   "metadata": {},
   "source": [
    "#### Gini coeﬃcient of time between consecutive event"
   ]
  },
  {
   "cell_type": "code",
   "execution_count": null,
   "id": "7632b026-bf64-4757-b96b-9d6938592fed",
   "metadata": {},
   "outputs": [],
   "source": [
    "def time_diffs(time_stamps):\n",
    "    diff_time_stamps = np.array([])\n",
    "    for i in range(len(time_stamps)-1):\n",
    "        diff = (time_stamps.iloc[i+1] - time_stamps.iloc[i])/pd.to_timedelta('1 second')\n",
    "        diff_time_stamps = np.append(diff_time_stamps, [diff])\n",
    "    return(diff_time_stamps)"
   ]
  },
  {
   "cell_type": "code",
   "execution_count": null,
   "id": "44b4da8d-74aa-4852-b810-b947396eb9c2",
   "metadata": {},
   "outputs": [],
   "source": [
    "def gini(time_stamps):\n",
    "    '''\n",
    "    args: time_stamps - Series of time stamps for a contributor\n",
    "    \n",
    "    return: g_coeff - float that gives gini coefficient\n",
    "    \n",
    "    method: calculate the Gini coefficient of a numpy array\n",
    "    '''\n",
    "    array = time_diffs(time_stamps)\n",
    "    array = array[array!=0]\n",
    "    if len(array) == 0:\n",
    "        return np.float64(0.0)\n",
    "    array = array.flatten()\n",
    "    array = np.sort(array)\n",
    "    index = np.arange(1, array.shape[0] + 1)\n",
    "    n = array.shape[0]\n",
    "    g_coeff = (np.sum((2 * index - n - 1) * array)) / (n * np.sum(array))\n",
    "    \n",
    "    return (g_coeff.round(4))"
   ]
  },
  {
   "cell_type": "markdown",
   "id": "4d438245-7514-441c-82f3-879e40654c40",
   "metadata": {},
   "source": [
    "You can pass a Series of time-stamps to gini(time_stamps) function to get the Gini coeﬃcient\n",
    "#### Hint:\n",
    "1. Groupby the contributors on 'contributor' and use gini as .agg function on 'created_at'.\n",
    "2. Merge the resultant DataFram with their type (the df that you got in section 4)\n",
    "3. Make box/boxen/violin plots on those gini values"
   ]
  },
  {
   "cell_type": "code",
   "execution_count": null,
   "id": "fd745a1f-abe2-4538-8af6-e6004991cd2e",
   "metadata": {},
   "outputs": [],
   "source": [
    "# YOUR CODE BELOW\n",
    "\n"
   ]
  },
  {
   "cell_type": "code",
   "execution_count": null,
   "id": "90504834-e64e-4c1f-b102-733bacae2934",
   "metadata": {},
   "outputs": [],
   "source": [
    "# YOUR CODE BELOW"
   ]
  },
  {
   "cell_type": "markdown",
   "id": "e49d9ca9-e5db-4a9d-8c0e-91a9203b546d",
   "metadata": {},
   "source": [
    "### Question 6.1"
   ]
  },
  {
   "cell_type": "markdown",
   "id": "64d6beec-e66b-4c4f-b75a-2fc5a20e9cf1",
   "metadata": {},
   "source": [
    "#### Do you ﬁnd any set of accounts having a diverging behaviour? (Hint: look for outliers.)"
   ]
  },
  {
   "cell_type": "code",
   "execution_count": null,
   "id": "4ae0da5d-52f3-4dc3-8051-8955a31b6de6",
   "metadata": {},
   "outputs": [],
   "source": []
  },
  {
   "cell_type": "markdown",
   "id": "163bc987-51d9-4d18-9120-a38267219d26",
   "metadata": {},
   "source": [
    "### Question 6.2"
   ]
  },
  {
   "cell_type": "markdown",
   "id": "9521d008-1576-4212-98f9-e0740278f106",
   "metadata": {},
   "source": [
    "#### What is the type of the accounts that have diverging behaviour?"
   ]
  },
  {
   "cell_type": "code",
   "execution_count": null,
   "id": "b4a4f4e7-f497-43b2-b889-c8431f9c3f54",
   "metadata": {},
   "outputs": [],
   "source": []
  },
  {
   "cell_type": "markdown",
   "id": "2f0886b1-158f-4e59-83f0-1f8753605fb5",
   "metadata": {},
   "source": [
    "### Question 6.3"
   ]
  },
  {
   "cell_type": "markdown",
   "id": "92a22e22-5b3f-4637-b3c3-d0992b3b0219",
   "metadata": {},
   "source": [
    "#### Do bots have different behaviour than apps? Motivate your answer"
   ]
  },
  {
   "cell_type": "code",
   "execution_count": null,
   "id": "6807c449-d489-46a8-8749-3602685f8351",
   "metadata": {},
   "outputs": [],
   "source": []
  },
  {
   "cell_type": "markdown",
   "id": "b3ad5bea-d77e-45bb-9aff-014845fd648f",
   "metadata": {},
   "source": [
    "### Question 6.4"
   ]
  },
  {
   "cell_type": "markdown",
   "id": "eca85aad-3c25-405b-bcc2-35abf4b3641b",
   "metadata": {},
   "source": [
    "#### Do bots and apps have a diﬀerent behaviour from human accounts? (Hint: in the box plots ﬁnd where the bots and apps are located and find where the humans are located)"
   ]
  },
  {
   "cell_type": "code",
   "execution_count": null,
   "id": "6f4f524e-4651-40fd-8ad1-fb7c82f55126",
   "metadata": {},
   "outputs": [],
   "source": []
  },
  {
   "cell_type": "markdown",
   "id": "a02b6b1b-bdc4-4e2d-8ec8-12fc89737c92",
   "metadata": {},
   "source": [
    "### Question 6.5"
   ]
  },
  {
   "cell_type": "markdown",
   "id": "a15bc77c-e7b7-403b-8974-84f86caa3d77",
   "metadata": {},
   "source": [
    "#### Do all bots (other than outliers) have the same behaviour? List the bots that have a diﬀerent behaviour. Mention your interpretation on the cause of this diverging behaviour compared to other bots?"
   ]
  },
  {
   "cell_type": "code",
   "execution_count": null,
   "id": "1cc51551-8155-4a24-a80b-22ac56b78c33",
   "metadata": {},
   "outputs": [],
   "source": []
  },
  {
   "cell_type": "code",
   "execution_count": null,
   "id": "476c050c-dffa-469c-94f3-568b8c74712e",
   "metadata": {},
   "outputs": [],
   "source": []
  }
 ],
 "metadata": {
  "kernelspec": {
   "display_name": "Python 3 (ipykernel)",
   "language": "python",
   "name": "python3"
  },
  "language_info": {
   "codemirror_mode": {
    "name": "ipython",
    "version": 3
   },
   "file_extension": ".py",
   "mimetype": "text/x-python",
   "name": "python",
   "nbconvert_exporter": "python",
   "pygments_lexer": "ipython3",
   "version": "3.11.8"
  }
 },
 "nbformat": 4,
 "nbformat_minor": 5
}
